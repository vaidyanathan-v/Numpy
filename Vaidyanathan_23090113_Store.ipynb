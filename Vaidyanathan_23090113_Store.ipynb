{
  "nbformat": 4,
  "nbformat_minor": 0,
  "metadata": {
    "colab": {
      "provenance": []
    },
    "kernelspec": {
      "name": "python3",
      "display_name": "Python 3"
    },
    "language_info": {
      "name": "python"
    }
  },
  "cells": [
    {
      "cell_type": "code",
      "source": [
        "import pandas as pd\n",
        "from google.colab import drive\n",
        "drive.mount('/content/drive')\n",
        "d=pd.read_csv('/content/drive/My Drive/Colab Notebooks/data.csv')"
      ],
      "metadata": {
        "colab": {
          "base_uri": "https://localhost:8080/"
        },
        "id": "pDq0fBa4UcO4",
        "outputId": "a081239a-01d7-457d-95e8-d12828e57979"
      },
      "execution_count": null,
      "outputs": [
        {
          "output_type": "stream",
          "name": "stdout",
          "text": [
            "Drive already mounted at /content/drive; to attempt to forcibly remount, call drive.mount(\"/content/drive\", force_remount=True).\n"
          ]
        }
      ]
    },
    {
      "cell_type": "code",
      "execution_count": null,
      "metadata": {
        "colab": {
          "base_uri": "https://localhost:8080/"
        },
        "id": "c2KRTmJLTUhf",
        "outputId": "88a5e0be-ee7a-48bc-a711-861c72746a06"
      },
      "outputs": [
        {
          "output_type": "stream",
          "name": "stdout",
          "text": [
            "       a  b  c\n",
            "one    1  2  3\n",
            "two    4  5  6\n",
            "three  7  8  9\n"
          ]
        }
      ],
      "source": [
        "import pandas as pd\n",
        "df=pd.DataFrame([[1,2,3],[4,5,6],[7,8,9]],index=[\"one\",\"two\",\"three\"],columns=[\"a\",\"b\",\"c\"])\n",
        "print(df)"
      ]
    },
    {
      "cell_type": "code",
      "source": [
        "df.to_csv('/content/drive/My Drive/Colab Notebooks/he.csv')\n",
        "df.to_csv('/content/drive/My Drive/Colab Notebooks/she.csv')"
      ],
      "metadata": {
        "id": "WBKRmvyUUeg6"
      },
      "execution_count": null,
      "outputs": []
    },
    {
      "cell_type": "code",
      "source": [
        "df=pd.DataFrame([[10,20,30],[40,50,60],[70,80,90]],index=[\"four\",\"five\",\"six\"],columns=[\"x\",\"y\",\"z\"])\n",
        "df.to_csv('/content/drive/My Drive/Colab Notebooks/he.csv')\n"
      ],
      "metadata": {
        "id": "65KlQX3FU3Eb"
      },
      "execution_count": null,
      "outputs": []
    },
    {
      "cell_type": "code",
      "source": [
        "df=pd.DataFrame([[6,7],[1,2]],index=[\"a\",\"b\"],columns=[\"x\",\"y\"])\n",
        "df.to_csv('/content/drive/My Drive/Colab Notebooks/she.csv')"
      ],
      "metadata": {
        "id": "OAXi0DxccCIV"
      },
      "execution_count": null,
      "outputs": []
    },
    {
      "cell_type": "code",
      "source": [
        "x=pd.read_csv('/content/drive/My Drive/Colab Notebooks/he.csv')\n",
        "y=pd.read_csv('/content/drive/My Drive/Colab Notebooks/she.csv')\n",
        "z=pd.concat([x,y])\n",
        "z.to_csv('/content/drive/My Drive/Colab Notebooks/she.csv')"
      ],
      "metadata": {
        "id": "x75cs-qbcAsj"
      },
      "execution_count": null,
      "outputs": []
    },
    {
      "cell_type": "code",
      "source": [
        "df=pd.read_csv('/content/drive/My Drive/Colab Notebooks/she.csv')\n",
        "print(df)\n",
        "print(list(df))\n",
        "print(format(len(df)))"
      ],
      "metadata": {
        "colab": {
          "base_uri": "https://localhost:8080/"
        },
        "id": "3UtPGAMScl0K",
        "outputId": "b0fbfb29-7555-4d90-8da6-8fd40fe70d8f"
      },
      "execution_count": null,
      "outputs": [
        {
          "output_type": "stream",
          "name": "stdout",
          "text": [
            "   Unnamed: 0.1 Unnamed: 0   x   y     z\n",
            "0             0       four  10  20  30.0\n",
            "1             1       five  40  50  60.0\n",
            "2             2        six  70  80  90.0\n",
            "3             0          a   6   7   NaN\n",
            "4             1          b   1   2   NaN\n",
            "['Unnamed: 0.1', 'Unnamed: 0', 'x', 'y', 'z']\n",
            "5\n"
          ]
        }
      ]
    }
  ]
}