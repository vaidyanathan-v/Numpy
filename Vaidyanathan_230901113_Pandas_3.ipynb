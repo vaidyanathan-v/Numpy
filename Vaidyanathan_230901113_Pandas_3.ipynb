{
  "nbformat": 4,
  "nbformat_minor": 0,
  "metadata": {
    "colab": {
      "provenance": []
    },
    "kernelspec": {
      "name": "python3",
      "display_name": "Python 3"
    },
    "language_info": {
      "name": "python"
    }
  },
  "cells": [
    {
      "cell_type": "code",
      "execution_count": 1,
      "metadata": {
        "colab": {
          "base_uri": "https://localhost:8080/"
        },
        "id": "IO6qRKOK77Ko",
        "outputId": "2a272ee2-c200-4186-b9f8-145209672088"
      },
      "outputs": [
        {
          "output_type": "stream",
          "name": "stdout",
          "text": [
            "0    s\n",
            "1    a\n",
            "2    i\n",
            "3    s\n",
            "4    r\n",
            "5    i\n",
            "dtype: object\n"
          ]
        }
      ],
      "source": [
        "import pandas as pd\n",
        "import numpy as np\n",
        "a=np.array(['s','a','i','s','r','i'])\n",
        "b=pd.Series(a)\n",
        "print(b)\n",
        ""
      ]
    },
    {
      "cell_type": "code",
      "source": [
        "c={'a':0,'b':1,'c':2}\n",
        "e=pd.Series(c)\n",
        "print(e)\n"
      ],
      "metadata": {
        "colab": {
          "base_uri": "https://localhost:8080/"
        },
        "id": "BMFQquX_8RbQ",
        "outputId": "5eedbe26-993d-429d-9ea4-43de92ae5439"
      },
      "execution_count": 2,
      "outputs": [
        {
          "output_type": "stream",
          "name": "stdout",
          "text": [
            "a    0\n",
            "b    1\n",
            "c    2\n",
            "dtype: int64\n"
          ]
        }
      ]
    },
    {
      "cell_type": "code",
      "source": [
        "x=pd.Series(4,index=[0,1,2,3])\n",
        "print(x)\n",
        ""
      ],
      "metadata": {
        "colab": {
          "base_uri": "https://localhost:8080/"
        },
        "id": "V8FzPdKp8Reu",
        "outputId": "1da4ea3f-c395-40ba-c338-efbc9115828c"
      },
      "execution_count": 3,
      "outputs": [
        {
          "output_type": "stream",
          "name": "stdout",
          "text": [
            "0    4\n",
            "1    4\n",
            "2    4\n",
            "3    4\n",
            "dtype: int64\n"
          ]
        }
      ]
    },
    {
      "cell_type": "code",
      "source": [
        "a=pd.Series(['s','a','i','s','r','i'])\n",
        "print(a.values)\n",
        "print(a.ndim)\n",
        "print(a.size)\n",
        "print(a.shape)\n",
        "print(a.index)\n",
        "\n"
      ],
      "metadata": {
        "colab": {
          "base_uri": "https://localhost:8080/"
        },
        "id": "Qzek2HvH8atr",
        "outputId": "b484a1d1-979b-4885-cd43-8a8848c1da45"
      },
      "execution_count": 4,
      "outputs": [
        {
          "output_type": "stream",
          "name": "stdout",
          "text": [
            "['s' 'a' 'i' 's' 'r' 'i']\n",
            "1\n",
            "6\n",
            "(6,)\n",
            "RangeIndex(start=0, stop=6, step=1)\n"
          ]
        }
      ]
    }
  ]
}