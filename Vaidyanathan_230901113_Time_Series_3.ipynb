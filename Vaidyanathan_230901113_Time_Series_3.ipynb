{
  "nbformat": 4,
  "nbformat_minor": 0,
  "metadata": {
    "colab": {
      "provenance": []
    },
    "kernelspec": {
      "name": "python3",
      "display_name": "Python 3"
    },
    "language_info": {
      "name": "python"
    }
  },
  "cells": [
    {
      "cell_type": "code",
      "execution_count": 1,
      "metadata": {
        "colab": {
          "base_uri": "https://localhost:8080/"
        },
        "id": "H_VWINI_a1gs",
        "outputId": "9393b75b-8a26-4768-fdad-672c3ee21b69"
      },
      "outputs": [
        {
          "output_type": "stream",
          "name": "stdout",
          "text": [
            "Date Index \n",
            " 2011-01-02   -0.631110\n",
            "2011-01-05   -1.818752\n",
            "2011-01-07   -0.644106\n",
            "2011-01-08   -1.049908\n",
            "2011-01-10   -1.367191\n",
            "2011-01-12    0.467573\n",
            "dtype: float64\n"
          ]
        }
      ],
      "source": [
        "import pandas as pd\n",
        "import numpy as np\n",
        "from datetime import datetime\n",
        "dates = [datetime(2011, 1, 2),datetime(2011, 1, 5),datetime(2011, 1, 7),datetime(2011, 1, 8),datetime(2011, 1, 10),datetime(2011, 1, 12)]\n",
        "ts = pd.Series(np.random.randn(6), index=dates)\n",
        "print(\"Date Index \\n\",ts)\n"
      ]
    },
    {
      "cell_type": "code",
      "source": [
        "print(\"\\nDate Index alone from the series: \\n\",ts.index)\n",
        "\n"
      ],
      "metadata": {
        "colab": {
          "base_uri": "https://localhost:8080/"
        },
        "id": "IuBytTvNbat5",
        "outputId": "0668303a-e34c-473f-b13b-186fd5f9dcf0"
      },
      "execution_count": 2,
      "outputs": [
        {
          "output_type": "stream",
          "name": "stdout",
          "text": [
            "\n",
            "Date Index alone from the series: \n",
            " DatetimeIndex(['2011-01-02', '2011-01-05', '2011-01-07', '2011-01-08',\n",
            "               '2011-01-10', '2011-01-12'],\n",
            "              dtype='datetime64[ns]', freq=None)\n"
          ]
        }
      ]
    },
    {
      "cell_type": "code",
      "source": [
        "stamp=ts.index[2]\n",
        "print(\"\\nSecond index:\\n\", stamp)\n"
      ],
      "metadata": {
        "colab": {
          "base_uri": "https://localhost:8080/"
        },
        "id": "p6kkJ4WabawP",
        "outputId": "d0b656ee-b8e4-4c5e-c510-a43e16e5b3e2"
      },
      "execution_count": 3,
      "outputs": [
        {
          "output_type": "stream",
          "name": "stdout",
          "text": [
            "\n",
            "Second index:\n",
            " 2011-01-07 00:00:00\n"
          ]
        }
      ]
    },
    {
      "cell_type": "code",
      "source": [
        "longer_ts=pd.Series(np.random.randn(1000),index=pd.date_range(\"2000-01-01\",periods=1000))\n",
        "print(\"\\nDaterange up to 1000 days:\\n\",longer_ts)\n",
        "\n"
      ],
      "metadata": {
        "colab": {
          "base_uri": "https://localhost:8080/"
        },
        "id": "6KCU_9_xbayq",
        "outputId": "af611dd6-0e51-4477-a5ca-1d39743720a6"
      },
      "execution_count": 4,
      "outputs": [
        {
          "output_type": "stream",
          "name": "stdout",
          "text": [
            "\n",
            "Daterange up to 1000 days:\n",
            " 2000-01-01   -0.896981\n",
            "2000-01-02   -0.263718\n",
            "2000-01-03    0.449249\n",
            "2000-01-04   -0.873421\n",
            "2000-01-05   -0.107836\n",
            "                ...   \n",
            "2002-09-22   -0.248233\n",
            "2002-09-23    0.968504\n",
            "2002-09-24   -0.168842\n",
            "2002-09-25    0.048937\n",
            "2002-09-26    0.295674\n",
            "Freq: D, Length: 1000, dtype: float64\n"
          ]
        }
      ]
    },
    {
      "cell_type": "code",
      "source": [
        "print(\"\\nDate range-2001 year:\\n\", longer_ts[\"2001\"])\n"
      ],
      "metadata": {
        "colab": {
          "base_uri": "https://localhost:8080/"
        },
        "id": "3hHhlWg6ba0P",
        "outputId": "efff6757-2d35-430a-c3eb-d0e0e63887c2"
      },
      "execution_count": 5,
      "outputs": [
        {
          "output_type": "stream",
          "name": "stdout",
          "text": [
            "\n",
            "Date range-2001 year:\n",
            " 2001-01-01   -0.317988\n",
            "2001-01-02   -0.151523\n",
            "2001-01-03   -1.275285\n",
            "2001-01-04   -0.671489\n",
            "2001-01-05    0.380160\n",
            "                ...   \n",
            "2001-12-27   -0.562123\n",
            "2001-12-28    0.298755\n",
            "2001-12-29    1.398690\n",
            "2001-12-30    0.944691\n",
            "2001-12-31   -0.206145\n",
            "Freq: D, Length: 365, dtype: float64\n"
          ]
        }
      ]
    },
    {
      "cell_type": "code",
      "source": [
        "print(\"\\nDate range-05 month 2001 year:\\n\", longer_ts[\"2001-05\"])\n"
      ],
      "metadata": {
        "colab": {
          "base_uri": "https://localhost:8080/"
        },
        "id": "jJtWO0cdb78m",
        "outputId": "ef763007-e32a-447a-d2e7-99059e3e4efc"
      },
      "execution_count": 6,
      "outputs": [
        {
          "output_type": "stream",
          "name": "stdout",
          "text": [
            "\n",
            "Date range-05 month 2001 year:\n",
            " 2001-05-01   -1.094080\n",
            "2001-05-02   -0.896426\n",
            "2001-05-03   -1.358146\n",
            "2001-05-04   -1.681466\n",
            "2001-05-05   -0.506754\n",
            "2001-05-06    1.052889\n",
            "2001-05-07   -0.152629\n",
            "2001-05-08   -0.506914\n",
            "2001-05-09    0.579138\n",
            "2001-05-10    0.974895\n",
            "2001-05-11    0.270148\n",
            "2001-05-12    0.229874\n",
            "2001-05-13    1.001833\n",
            "2001-05-14   -1.103118\n",
            "2001-05-15   -0.707180\n",
            "2001-05-16   -0.085596\n",
            "2001-05-17    0.802177\n",
            "2001-05-18   -2.850363\n",
            "2001-05-19   -1.890273\n",
            "2001-05-20    0.679001\n",
            "2001-05-21   -1.579738\n",
            "2001-05-22    1.629248\n",
            "2001-05-23    0.257072\n",
            "2001-05-24   -0.018381\n",
            "2001-05-25   -0.027430\n",
            "2001-05-26   -1.710961\n",
            "2001-05-27   -1.137303\n",
            "2001-05-28    0.198070\n",
            "2001-05-29   -1.589182\n",
            "2001-05-30   -1.375347\n",
            "2001-05-31   -0.467591\n",
            "Freq: D, dtype: float64\n"
          ]
        }
      ]
    },
    {
      "cell_type": "code",
      "source": [
        "print(\"\\nDate range-first few dates in 2000 year:\\n\",longer_ts[\"2000\"].head())\n"
      ],
      "metadata": {
        "colab": {
          "base_uri": "https://localhost:8080/"
        },
        "id": "QHKwttETb7--",
        "outputId": "5d0d26cd-0e5d-497d-ee08-733732fec570"
      },
      "execution_count": 7,
      "outputs": [
        {
          "output_type": "stream",
          "name": "stdout",
          "text": [
            "\n",
            "Date range-first few dates in 2000 year:\n",
            " 2000-01-01   -0.896981\n",
            "2000-01-02   -0.263718\n",
            "2000-01-03    0.449249\n",
            "2000-01-04   -0.873421\n",
            "2000-01-05   -0.107836\n",
            "Freq: D, dtype: float64\n"
          ]
        }
      ]
    },
    {
      "cell_type": "code",
      "source": [
        "print(\"\\nDate range-first 15 dates in 02 month 2001 year:\\n\",longer_ts[\"2000-02\"].head(15))\n"
      ],
      "metadata": {
        "colab": {
          "base_uri": "https://localhost:8080/"
        },
        "id": "Vom5mFocb8Ct",
        "outputId": "c207fe05-7007-4f9c-aab7-b743ad3b3148"
      },
      "execution_count": 8,
      "outputs": [
        {
          "output_type": "stream",
          "name": "stdout",
          "text": [
            "\n",
            "Date range-first 15 dates in 02 month 2001 year:\n",
            " 2000-02-01   -1.593788\n",
            "2000-02-02   -1.135094\n",
            "2000-02-03    0.509034\n",
            "2000-02-04   -0.702549\n",
            "2000-02-05    0.575470\n",
            "2000-02-06    1.055647\n",
            "2000-02-07    1.449337\n",
            "2000-02-08    0.694931\n",
            "2000-02-09    0.008519\n",
            "2000-02-10   -0.253952\n",
            "2000-02-11    1.510712\n",
            "2000-02-12   -1.452914\n",
            "2000-02-13   -0.177687\n",
            "2000-02-14    0.460905\n",
            "2000-02-15    3.262601\n",
            "Freq: D, dtype: float64\n"
          ]
        }
      ]
    },
    {
      "cell_type": "code",
      "source": [
        "print(\"\\nDate range-rom 26-9-2001:\\n\",longer_ts[datetime(2000,9,26):])\n"
      ],
      "metadata": {
        "colab": {
          "base_uri": "https://localhost:8080/"
        },
        "id": "a92h5pf5ba3t",
        "outputId": "adb445e2-9304-49ca-e5d8-cf16221b452c"
      },
      "execution_count": 9,
      "outputs": [
        {
          "output_type": "stream",
          "name": "stdout",
          "text": [
            "\n",
            "Date range-rom 26-9-2001:\n",
            " 2000-09-26   -1.679153\n",
            "2000-09-27   -0.679213\n",
            "2000-09-28    0.511914\n",
            "2000-09-29   -1.638123\n",
            "2000-09-30    1.121849\n",
            "                ...   \n",
            "2002-09-22   -0.248233\n",
            "2002-09-23    0.968504\n",
            "2002-09-24   -0.168842\n",
            "2002-09-25    0.048937\n",
            "2002-09-26    0.295674\n",
            "Freq: D, Length: 731, dtype: float64\n"
          ]
        }
      ]
    },
    {
      "cell_type": "code",
      "source": [
        "print(\"\\nDate range from 26-9-2001 to 25-9- 2002:\\n\",longer_ts[datetime(2001,9,26):datetime(2002,9,25)])\n"
      ],
      "metadata": {
        "colab": {
          "base_uri": "https://localhost:8080/"
        },
        "id": "srNQGK59cVyM",
        "outputId": "5ac4cbe0-9dee-4337-ce96-0a33289f8f7d"
      },
      "execution_count": 10,
      "outputs": [
        {
          "output_type": "stream",
          "name": "stdout",
          "text": [
            "\n",
            "Date range from 26-9-2001 to 25-9- 2002:\n",
            " 2001-09-26   -0.252254\n",
            "2001-09-27    0.325329\n",
            "2001-09-28   -0.056078\n",
            "2001-09-29    0.389667\n",
            "2001-09-30    0.692619\n",
            "                ...   \n",
            "2002-09-21    0.947465\n",
            "2002-09-22   -0.248233\n",
            "2002-09-23    0.968504\n",
            "2002-09-24   -0.168842\n",
            "2002-09-25    0.048937\n",
            "Freq: D, Length: 365, dtype: float64\n"
          ]
        }
      ]
    }
  ]
}