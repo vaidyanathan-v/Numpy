{
 "cells": [
  {
   "cell_type": "code",
   "execution_count": 2,
   "id": "937d58dd",
   "metadata": {},
   "outputs": [],
   "source": [
    "f=open(\"/Users/Student/Downloads/data1.txt\",'w')\n",
    "f.write(\"Sai \\n\")\n",
    "f.write(\"Raj \\n\")\n",
    "f.write(\"John \\n\")\n",
    "f.close()"
   ]
  },
  {
   "cell_type": "code",
   "execution_count": 3,
   "id": "7f11b00e",
   "metadata": {},
   "outputs": [
    {
     "name": "stdout",
     "output_type": "stream",
     "text": [
      "Sai \n",
      "\n",
      "Raj \n",
      "\n",
      "John \n",
      "\n"
     ]
    }
   ],
   "source": [
    "a=open(\"/Users/Student/Downloads/data1.txt\",'r')\n",
    "print(a.readline())\n",
    "print(a.readline())\n",
    "print(a.readline())\n",
    "a.close()"
   ]
  },
  {
   "cell_type": "code",
   "execution_count": 4,
   "id": "0a611b95",
   "metadata": {},
   "outputs": [],
   "source": [
    "b=open(\"/Users/Student/Downloads/data1.txt\",\"a\")\n",
    "b.write(\"Ram\\n\")\n",
    "b.write(\"Kumar\\n\")\n",
    "b.close()\n"
   ]
  },
  {
   "cell_type": "code",
   "execution_count": 8,
   "id": "743b1bd7",
   "metadata": {},
   "outputs": [
    {
     "name": "stdout",
     "output_type": "stream",
     "text": [
      "Sai \n",
      "Raj \n",
      "John \n",
      "Ram\n",
      "Kumar\n",
      "\n"
     ]
    }
   ],
   "source": [
    "c=open(\"/Users/Student/Downloads/data1.txt\",\"r\")\n",
    "print(c.read())\n",
    "c.close()"
   ]
  },
  {
   "cell_type": "code",
   "execution_count": 10,
   "id": "8055b34e",
   "metadata": {},
   "outputs": [
    {
     "name": "stdout",
     "output_type": "stream",
     "text": [
      "Sai \n",
      "\n"
     ]
    }
   ],
   "source": [
    "with open(\"/Users/Student/Downloads/data1.txt\",\"r\") as file:\n",
    "    line=file.readline()\n",
    "    print(line)"
   ]
  },
  {
   "cell_type": "code",
   "execution_count": 11,
   "id": "1919c114",
   "metadata": {},
   "outputs": [
    {
     "name": "stdout",
     "output_type": "stream",
     "text": [
      "London\n"
     ]
    }
   ],
   "source": [
    "import json\n",
    "x='{\"Name\":\"Raj\",\"Age\":\"28\",\"City\":\"London\"}'\n",
    "y=json.loads(x)\n",
    "print(y[\"City\"])"
   ]
  },
  {
   "cell_type": "code",
   "execution_count": 12,
   "id": "b8f51860",
   "metadata": {},
   "outputs": [
    {
     "name": "stdout",
     "output_type": "stream",
     "text": [
      "\"{\\\"Name\\\":\\\"Raj\\\",\\\"Age\\\":\\\"28\\\",\\\"City\\\":\\\"London\\\"}\"\n"
     ]
    }
   ],
   "source": [
    "x\n",
    "{\n",
    "    \"Name\":\"Raj\",\n",
    "    \"Age\":\"20\",\n",
    "    \"City\":\"London\"\n",
    "}\n",
    "y=json.dumps(x)\n",
    "print(y)"
   ]
  },
  {
   "cell_type": "code",
   "execution_count": null,
   "id": "181b9d2f",
   "metadata": {},
   "outputs": [],
   "source": []
  }
 ],
 "metadata": {
  "kernelspec": {
   "display_name": "Python 3 (ipykernel)",
   "language": "python",
   "name": "python3"
  },
  "language_info": {
   "codemirror_mode": {
    "name": "ipython",
    "version": 3
   },
   "file_extension": ".py",
   "mimetype": "text/x-python",
   "name": "python",
   "nbconvert_exporter": "python",
   "pygments_lexer": "ipython3",
   "version": "3.11.5"
  }
 },
 "nbformat": 4,
 "nbformat_minor": 5
}
