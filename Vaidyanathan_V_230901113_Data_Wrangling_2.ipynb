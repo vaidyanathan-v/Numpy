{
  "nbformat": 4,
  "nbformat_minor": 0,
  "metadata": {
    "colab": {
      "provenance": [],
      "authorship_tag": "ABX9TyPZaOV1d7lL2w26O22BLfRr",
      "include_colab_link": true
    },
    "kernelspec": {
      "name": "python3",
      "display_name": "Python 3"
    },
    "language_info": {
      "name": "python"
    }
  },
  "cells": [
    {
      "cell_type": "markdown",
      "metadata": {
        "id": "view-in-github",
        "colab_type": "text"
      },
      "source": [
        "<a href=\"https://colab.research.google.com/github/vaidyanathan-v/Numpy/blob/main/Vaidyanathan_V_230901113_Data_Wrangling_2.ipynb\" target=\"_parent\"><img src=\"https://colab.research.google.com/assets/colab-badge.svg\" alt=\"Open In Colab\"/></a>"
      ]
    },
    {
      "cell_type": "code",
      "execution_count": 5,
      "metadata": {
        "colab": {
          "base_uri": "https://localhost:8080/"
        },
        "id": "w_5nw2dTBZki",
        "outputId": "56dec006-5275-4443-b049-7ab13d37e482"
      },
      "outputs": [
        {
          "output_type": "stream",
          "name": "stdout",
          "text": [
            "Original DataFrame:\n",
            "           Name  Age Gender Marks\n",
            "0          Sai   20      M    90\n",
            "1      Yuvasri   18      F    76\n",
            "2    Poovannan   19      M   NaN\n",
            "3    Subharish   20      M    74\n",
            "4  Sangamithra   18      F    65\n",
            "5      Rithika   17      F   NaN\n",
            "6      Rubasri   19      F    71\n",
            "\n",
            " Replacing NaN with average marks:\n",
            "           Name  Age Gender     Marks\n",
            "0          Sai   20      M  90.00000\n",
            "1      Yuvasri   18      F  76.00000\n",
            "2    Poovannan   19      M  15.49375\n",
            "3    Subharish   20      M  74.00000\n",
            "4  Sangamithra   18      F  65.00000\n",
            "5      Rithika   17      F  15.49375\n",
            "6      Rubasri   19      F  71.00000\n"
          ]
        },
        {
          "output_type": "stream",
          "name": "stderr",
          "text": [
            "<ipython-input-5-2facbfd6721d>:11: FutureWarning: Downcasting behavior in `replace` is deprecated and will be removed in a future version. To retain the old behavior, explicitly call `result.infer_objects(copy=False)`. To opt-in to the future behavior, set `pd.set_option('future.no_silent_downcasting', True)`\n",
            "  df=df.replace(to_replace=\"NaN\",value=avg)\n"
          ]
        }
      ],
      "source": [
        "import pandas as pd\n",
        "data={'Name':['Sai','Yuvasri','Poovannan','Subharish','Sangamithra','Rithika','Rubasri'],'Age':[20,18,19,20,18,17,19],'Gender':['M','F','M','M','F','F','F'],'Marks':[90,76,'NaN',74,65,'NaN',71]}\n",
        "df=pd.DataFrame(data)\n",
        "print(\"Original DataFrame:\\n\",df)\n",
        "c=avg=0\n",
        "for ele in df['Marks']:\n",
        "  if str(ele).isnumeric():\n",
        "    c+=1\n",
        "    avg+=ele\n",
        "  avg/=c\n",
        "df=df.replace(to_replace=\"NaN\",value=avg)\n",
        "print(\"\\n Replacing NaN with average marks:\\n\",df)"
      ]
    },
    {
      "cell_type": "code",
      "source": [
        "df=df[df['Marks']>=75]\n",
        "df=df.drop(['Age'],axis=1)\n",
        "print(\"\\n Filtering and Dropping func: \\n\",df)\n"
      ],
      "metadata": {
        "colab": {
          "base_uri": "https://localhost:8080/"
        },
        "id": "Isn1cdw_EGPy",
        "outputId": "1af765bd-b1ea-4c81-972b-d0b44bb0366d"
      },
      "execution_count": 6,
      "outputs": [
        {
          "output_type": "stream",
          "name": "stdout",
          "text": [
            "\n",
            " Filtering and Dropping func: \n",
            "       Name Gender  Marks\n",
            "0      Sai      M   90.0\n",
            "1  Yuvasri      F   76.0\n"
          ]
        }
      ]
    },
    {
      "cell_type": "code",
      "source": [
        "one=pd.DataFrame({'Name':['Sai','Sub','Poo','Yuvasri','Rithika'],'Subject_id':['sub1','sub2','sub4','sub6','sub5'],'Marks_scored':[98,95,96,92,88]},index=[1,2,3,4,5])\n",
        "two=pd.DataFrame({'Name':['Sanjay','Sangamithra','Rubasri','Nikesh','Somanath'],'Subject_id':['su2','sub4','sub3','sub6','sub5'],'Marks_scored':[86,95,87,99,91]},index=[1,2,3,4,5])\n",
        "print(\"\\n Original DataFrame1: \\n\",one)\n",
        "print(\"\\n Original DataFrame2: \\n\",two)\n",
        "print(pd.concat([one,two]))"
      ],
      "metadata": {
        "colab": {
          "base_uri": "https://localhost:8080/"
        },
        "id": "GnQQ1IBSFaOG",
        "outputId": "bfe0cb0e-ea6b-453c-ddc4-dd45e1ba84ac"
      },
      "execution_count": 7,
      "outputs": [
        {
          "output_type": "stream",
          "name": "stdout",
          "text": [
            "\n",
            " Original DataFrame1: \n",
            "       Name Subject_id  Marks_scored\n",
            "1      Sai       sub1            98\n",
            "2      Sub       sub2            95\n",
            "3      Poo       sub4            96\n",
            "4  Yuvasri       sub6            92\n",
            "5  Rithika       sub5            88\n",
            "\n",
            " Original DataFrame2: \n",
            "           Name Subject_id  Marks_scored\n",
            "1       Sanjay        su2            86\n",
            "2  Sangamithra       sub4            95\n",
            "3      Rubasri       sub3            87\n",
            "4       Nikesh       sub6            99\n",
            "5     Somanath       sub5            91\n",
            "          Name Subject_id  Marks_scored\n",
            "1          Sai       sub1            98\n",
            "2          Sub       sub2            95\n",
            "3          Poo       sub4            96\n",
            "4      Yuvasri       sub6            92\n",
            "5      Rithika       sub5            88\n",
            "1       Sanjay        su2            86\n",
            "2  Sangamithra       sub4            95\n",
            "3      Rubasri       sub3            87\n",
            "4       Nikesh       sub6            99\n",
            "5     Somanath       sub5            91\n"
          ]
        }
      ]
    },
    {
      "cell_type": "code",
      "source": [],
      "metadata": {
        "id": "rO6jCfzAFnrc"
      },
      "execution_count": null,
      "outputs": []
    }
  ]
}