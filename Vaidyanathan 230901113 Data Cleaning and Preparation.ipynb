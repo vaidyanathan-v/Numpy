{
 "cells": [
  {
   "cell_type": "code",
   "execution_count": 1,
   "id": "14f3f1d0",
   "metadata": {},
   "outputs": [
    {
     "name": "stdout",
     "output_type": "stream",
     "text": [
      "Original DataFrame with NaN\n",
      "         one       two     three\n",
      "a  0.886816 -0.811122  1.940185\n",
      "b       NaN       NaN       NaN\n",
      "c -2.398394 -0.927880  2.090701\n",
      "d -0.259861  0.405679  0.809304\n",
      "e       NaN       NaN       NaN\n",
      "f  0.212546  0.503607 -0.079312\n",
      "Dropped DataFrame\n",
      "         one       two     three\n",
      "a  0.886816 -0.811122  1.940185\n",
      "c -2.398394 -0.927880  2.090701\n",
      "d -0.259861  0.405679  0.809304\n",
      "f  0.212546  0.503607 -0.079312\n",
      "\n",
      "\n"
     ]
    }
   ],
   "source": [
    "import pandas as pd\n",
    "import numpy as np\n",
    "df=pd.DataFrame(np.random.randn(4,3),index=['a','c','d','f'],columns=['one','two','three'])\n",
    "df=df.reindex(['a','b','c','d','e','f'])\n",
    "print(\"Original DataFrame with NaN\\n\",df)\n",
    "print(\"Dropped DataFrame\\n\",df.dropna())\n",
    "print(\"\\n\")"
   ]
  },
  {
   "cell_type": "code",
   "execution_count": 2,
   "id": "964ce6f8",
   "metadata": {},
   "outputs": [
    {
     "name": "stdout",
     "output_type": "stream",
     "text": [
      "NaN replaced with 0:\n",
      "         one       two     three\n",
      "a  0.886816 -0.811122  1.940185\n",
      "b  0.000000  0.000000  0.000000\n",
      "c -2.398394 -0.927880  2.090701\n",
      "d -0.259861  0.405679  0.809304\n",
      "e  0.000000  0.000000  0.000000\n",
      "f  0.212546  0.503607 -0.079312\n",
      "\n",
      "\n"
     ]
    }
   ],
   "source": [
    "print(\"NaN replaced with 0:\\n\",df.fillna(0))\n",
    "print(\"\\n\")"
   ]
  },
  {
   "cell_type": "code",
   "execution_count": 3,
   "id": "28f86fce",
   "metadata": {},
   "outputs": [
    {
     "name": "stdout",
     "output_type": "stream",
     "text": [
      "Original DataFrame:\n",
      "    one  two\n",
      "0   10   60\n",
      "1   20   70\n",
      "2   30   80\n",
      "3   40    0\n",
      "4   50   10\n",
      "\n",
      " DataFrame with replaced values: \n",
      "\n",
      "   one  two\n",
      "0    5   60\n",
      "1   20   70\n",
      "2   30    3\n",
      "3   40    0\n",
      "4   50    5\n"
     ]
    }
   ],
   "source": [
    "df=pd.DataFrame({'one':[10,20,30,40,50],'two':[60,70,80,0,10]})\n",
    "print(\"Original DataFrame:\\n\",df)\n",
    "print(\"\\n DataFrame with replaced values: \\n\")\n",
    "print(df.replace({10:5,80:3}))\n"
   ]
  },
  {
   "cell_type": "code",
   "execution_count": 4,
   "id": "c4a9a193",
   "metadata": {},
   "outputs": [
    {
     "name": "stdout",
     "output_type": "stream",
     "text": [
      "Original DataFrame with NaN\n",
      "         one       two     three\n",
      "a  0.903706 -0.953597  1.131331\n",
      "b       NaN       NaN       NaN\n",
      "c -0.254091 -0.844653 -0.050613\n",
      "d  0.121702 -1.467302  1.228788\n",
      "e       NaN       NaN       NaN\n",
      "f  0.431607 -1.779227 -1.744818\n",
      "\n",
      " NaN with true fill:\n",
      "\n",
      "a    False\n",
      "b     True\n",
      "c    False\n",
      "d    False\n",
      "e     True\n",
      "f    False\n",
      "Name: one, dtype: bool\n"
     ]
    }
   ],
   "source": [
    "df=pd.DataFrame(np.random.randn(4,3),index=['a','c','d','f'],columns=['one','two','three'])\n",
    "df=df.reindex(['a','b','c','d','e','f'])\n",
    "print(\"Original DataFrame with NaN\\n\",df)\n",
    "print(\"\\n NaN with true fill:\\n\")\n",
    "print(df['one'].isnull())"
   ]
  },
  {
   "cell_type": "code",
   "execution_count": 7,
   "id": "95235d5a",
   "metadata": {},
   "outputs": [
    {
     "name": "stdout",
     "output_type": "stream",
     "text": [
      "NaN filled with Background values:\n",
      "\n",
      "        one       two     three\n",
      "a  0.903706 -0.953597  1.131331\n",
      "b -0.254091 -0.844653 -0.050613\n",
      "c -0.254091 -0.844653 -0.050613\n",
      "d  0.121702 -1.467302  1.228788\n",
      "e  0.431607 -1.779227 -1.744818\n",
      "f  0.431607 -1.779227 -1.744818\n"
     ]
    }
   ],
   "source": [
    "print(\"NaN filled with Background values:\\n\")\n",
    "print(df.bfill())"
   ]
  },
  {
   "cell_type": "code",
   "execution_count": null,
   "id": "efcf1366",
   "metadata": {},
   "outputs": [],
   "source": []
  }
 ],
 "metadata": {
  "kernelspec": {
   "display_name": "Python 3 (ipykernel)",
   "language": "python",
   "name": "python3"
  },
  "language_info": {
   "codemirror_mode": {
    "name": "ipython",
    "version": 3
   },
   "file_extension": ".py",
   "mimetype": "text/x-python",
   "name": "python",
   "nbconvert_exporter": "python",
   "pygments_lexer": "ipython3",
   "version": "3.11.5"
  }
 },
 "nbformat": 4,
 "nbformat_minor": 5
}
