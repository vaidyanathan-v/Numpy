{
 "cells": [
  {
   "cell_type": "code",
   "execution_count": 11,
   "id": "94c43ecf",
   "metadata": {},
   "outputs": [
    {
     "name": "stdout",
     "output_type": "stream",
     "text": [
      "Original data:\n",
      "\n",
      "    Emp ID Name Prefix First Name  ...       Mother's Name  \\\n",
      "0   677509        Drs.       Lois  ...        Helen Walker   \n",
      "1   940761         Ms.     Brenda  ...       Judy Robinson   \n",
      "2   428945         Dr.        Joe  ...  Stephanie Robinson   \n",
      "3   408351        Drs.      Diane  ...      Michelle Evans   \n",
      "4   193819         Mr.   Benjamin  ...   Elizabeth Russell   \n",
      "5   499687         Mr.    Patrick  ...        Laura Bailey   \n",
      "6   539712         Ms.      Nancy  ...          Judy Baker   \n",
      "7   380086        Mrs.      Carol  ...    Katherine Murphy   \n",
      "8   477616        Hon.    Frances  ...       Lillian Young   \n",
      "9   162402        Hon.      Diana  ...  Christina Peterson   \n",
      "10  231469         Mr.      Ralph  ...     Michelle Flores   \n",
      "11  153989       Prof.       Jack  ...    Sharon Alexander   \n",
      "12  386158        Mrs.    Melissa  ...          Maria King   \n",
      "13  301576        Hon.      Wayne  ...     Margaret Watson   \n",
      "14  441771        Mrs.     Cheryl  ...          Lois Scott   \n",
      "15  528509        Hon.      Paula  ...        Kathryn Diaz   \n",
      "16  912990         Mr.     Joshua  ...      Martha Stewart   \n",
      "17  214352         Ms.    Theresa  ...         Rebecca Lee   \n",
      "18  890290        Hon.      Julia  ...           Amy Scott   \n",
      "\n",
      "   Mother's Maiden Name    Salary  \n",
      "0                 Lewis  168251.0  \n",
      "1                 Perry   51063.0  \n",
      "2                Taylor       NaN  \n",
      "3                 Allen  180294.0  \n",
      "4                Nelson   80000.0  \n",
      "5             Henderson   72305.0  \n",
      "6                Thomas   98189.0  \n",
      "7              Peterson   80000.0  \n",
      "8                  Diaz       NaN  \n",
      "9                  Ross   43010.0  \n",
      "10                Moore  118457.0  \n",
      "11               Walker   80000.0  \n",
      "12                White  166892.0  \n",
      "13                Hayes   92758.0  \n",
      "14               Watson   92220.0  \n",
      "15               Powell       NaN  \n",
      "16                Jones  184896.0  \n",
      "17               Turner  197537.0  \n",
      "18                 King  141518.0  \n",
      "\n",
      "[19 rows x 10 columns]\n"
     ]
    }
   ],
   "source": [
    "import pandas as pd\n",
    "pd.set_option('display.max_columns',6)\n",
    "print(\"Original data:\\n\")\n",
    "df=pd.read_excel(\"/Users/student/Downloads/Employee Details 230901113.xlsx\")\n",
    "print(df)"
   ]
  },
  {
   "cell_type": "code",
   "execution_count": 12,
   "id": "4371ee04",
   "metadata": {},
   "outputs": [
    {
     "name": "stdout",
     "output_type": "stream",
     "text": [
      "\n",
      " Replace value:\n",
      "    Emp ID Name Prefix First Name  ...       Mother's Name  \\\n",
      "0   677509        Drs.       Lois  ...        Helen Walker   \n",
      "1   940761         Ms.     Brenda  ...       Judy Robinson   \n",
      "2   428945         Dr.        Joe  ...  Stephanie Robinson   \n",
      "3   408351        Drs.      Diane  ...      Michelle Evans   \n",
      "4   193819         Mr.   Benjamin  ...   Elizabeth Russell   \n",
      "5   499687         Mr.    Patrick  ...        Laura Bailey   \n",
      "6   539712         Ms.      Nancy  ...          Judy Baker   \n",
      "7   380086        Mrs.      Carol  ...    Katherine Murphy   \n",
      "8   477616        Hon.    Frances  ...       Lillian Young   \n",
      "9   162402        Hon.      Diana  ...  Christina Peterson   \n",
      "10  231469         Mr.      Ralph  ...     Michelle Flores   \n",
      "11  153989       Prof.       Jack  ...    Sharon Alexander   \n",
      "12  386158        Mrs.    Melissa  ...          Maria King   \n",
      "13  301576        Hon.      Wayne  ...     Margaret Watson   \n",
      "14  441771        Mrs.     Cheryl  ...          Lois Scott   \n",
      "15  528509        Hon.      Paula  ...        Kathryn Diaz   \n",
      "16  912990         Mr.     Joshua  ...      Martha Stewart   \n",
      "17  214352         Ms.    Theresa  ...         Rebecca Lee   \n",
      "18  890290        Hon.      Julia  ...           Amy Scott   \n",
      "\n",
      "   Mother's Maiden Name    Salary  \n",
      "0                 Lewis  168251.0  \n",
      "1                 Perry   51063.0  \n",
      "2                Taylor   51063.0  \n",
      "3                 Allen  180294.0  \n",
      "4                Nelson   80000.0  \n",
      "5             Henderson   72305.0  \n",
      "6                Thomas   98189.0  \n",
      "7              Peterson   80000.0  \n",
      "8                  Diaz   80000.0  \n",
      "9                  Ross   43010.0  \n",
      "10                Moore  118457.0  \n",
      "11               Walker   80000.0  \n",
      "12                White  166892.0  \n",
      "13                Hayes   92758.0  \n",
      "14               Watson   92220.0  \n",
      "15               Powell   92220.0  \n",
      "16                Jones  184896.0  \n",
      "17               Turner  197537.0  \n",
      "18                 King  141518.0  \n",
      "\n",
      "[19 rows x 10 columns]\n",
      "\n",
      " Updated list \n",
      "\n"
     ]
    },
    {
     "name": "stderr",
     "output_type": "stream",
     "text": [
      "/var/folders/1n/gl1krczj1y58m5tm4xz0t6740000gp/T/ipykernel_1090/645328392.py:4: FutureWarning: DataFrame.fillna with 'method' is deprecated and will raise in a future version. Use obj.ffill() or obj.bfill() instead.\n",
      "  k=df.fillna(method='pad')\n"
     ]
    }
   ],
   "source": [
    "f=df['First Name'].str.strip()\n",
    "f.to_excel(\"/Users/student/Downloads/Employee Details 230901113.xlsx\")\n",
    "print(\"\\n Replace value:\")\n",
    "k=df.fillna(method='pad')\n",
    "print(k)\n",
    "print(\"\\n Updated list \\n\")\n",
    "k.to_excel(\"/Users/student/Downloads/Employee Details 230901113.xlsx\")"
   ]
  },
  {
   "cell_type": "code",
   "execution_count": 13,
   "id": "f1181487",
   "metadata": {},
   "outputs": [
    {
     "name": "stdout",
     "output_type": "stream",
     "text": [
      "\n",
      " Drop one particular column and its values:\n",
      "\n",
      "    Emp ID Name Prefix First Name  ...      Father's Name  \\\n",
      "0   677509        Drs.       Lois  ...      Donald Walker   \n",
      "1   940761         Ms.     Brenda  ...   Raymond Robinson   \n",
      "2   428945         Dr.        Joe  ...     Scott Robinson   \n",
      "3   408351        Drs.      Diane  ...        Jason Evans   \n",
      "4   193819         Mr.   Benjamin  ...    Gregory Russell   \n",
      "5   499687         Mr.    Patrick  ...       Ralph Bailey   \n",
      "6   539712         Ms.      Nancy  ...        Scott Baker   \n",
      "7   380086        Mrs.      Carol  ...      Eugene Murphy   \n",
      "8   477616        Hon.    Frances  ...         Fred Young   \n",
      "9   162402        Hon.      Diana  ...  Jonathan Peterson   \n",
      "10  231469         Mr.      Ralph  ...       Terry Flores   \n",
      "11  153989       Prof.       Jack  ...   Samuel Alexander   \n",
      "12  386158        Mrs.    Melissa  ...        Philip King   \n",
      "13  301576        Hon.      Wayne  ...      Ronald Watson   \n",
      "14  441771        Mrs.     Cheryl  ...      Richard Scott   \n",
      "15  528509        Hon.      Paula  ...          Alan Diaz   \n",
      "16  912990         Mr.     Joshua  ...       Todd Stewart   \n",
      "17  214352         Ms.    Theresa  ...           John Lee   \n",
      "18  890290        Hon.      Julia  ...     Lawrence Scott   \n",
      "\n",
      "   Mother's Maiden Name    Salary  \n",
      "0                 Lewis  168251.0  \n",
      "1                 Perry   51063.0  \n",
      "2                Taylor   51063.0  \n",
      "3                 Allen  180294.0  \n",
      "4                Nelson   80000.0  \n",
      "5             Henderson   72305.0  \n",
      "6                Thomas   98189.0  \n",
      "7              Peterson   80000.0  \n",
      "8                  Diaz   80000.0  \n",
      "9                  Ross   43010.0  \n",
      "10                Moore  118457.0  \n",
      "11               Walker   80000.0  \n",
      "12                White  166892.0  \n",
      "13                Hayes   92758.0  \n",
      "14               Watson   92220.0  \n",
      "15               Powell   92220.0  \n",
      "16                Jones  184896.0  \n",
      "17               Turner  197537.0  \n",
      "18                 King  141518.0  \n",
      "\n",
      "[19 rows x 9 columns]\n",
      "Updated list \n",
      "\n"
     ]
    }
   ],
   "source": [
    "print(\"\\n Drop one particular column and its values:\\n\")\n",
    "k.drop([\"Mother's Name\"],axis=1,inplace=True)\n",
    "print(k)\n",
    "print(\"Updated list \\n\")\n",
    "k.to_excel(\"/Users/student/Downloads/Employee Details 230901113.xlsx\")"
   ]
  },
  {
   "cell_type": "code",
   "execution_count": null,
   "id": "d4506c9c",
   "metadata": {},
   "outputs": [],
   "source": []
  }
 ],
 "metadata": {
  "kernelspec": {
   "display_name": "Python 3 (ipykernel)",
   "language": "python",
   "name": "python3"
  },
  "language_info": {
   "codemirror_mode": {
    "name": "ipython",
    "version": 3
   },
   "file_extension": ".py",
   "mimetype": "text/x-python",
   "name": "python",
   "nbconvert_exporter": "python",
   "pygments_lexer": "ipython3",
   "version": "3.11.5"
  }
 },
 "nbformat": 4,
 "nbformat_minor": 5
}
