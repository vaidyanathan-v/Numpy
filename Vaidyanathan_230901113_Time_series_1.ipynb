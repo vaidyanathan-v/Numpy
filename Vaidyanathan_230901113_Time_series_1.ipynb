{
  "nbformat": 4,
  "nbformat_minor": 0,
  "metadata": {
    "colab": {
      "provenance": []
    },
    "kernelspec": {
      "name": "python3",
      "display_name": "Python 3"
    },
    "language_info": {
      "name": "python"
    }
  },
  "cells": [
    {
      "cell_type": "code",
      "execution_count": 1,
      "metadata": {
        "colab": {
          "base_uri": "https://localhost:8080/"
        },
        "id": "kNwvNlarVJp7",
        "outputId": "3b5d8b3d-8b49-461d-af79-6dcc55f77ad7"
      },
      "outputs": [
        {
          "output_type": "stream",
          "name": "stdout",
          "text": [
            "today-now function:  2025-04-10 15:35:07.476910\n"
          ]
        }
      ],
      "source": [
        "import datetime\n",
        "a=datetime.datetime.now()\n",
        "print(\"today-now function: \",a)\n"
      ]
    },
    {
      "cell_type": "code",
      "source": [
        "today=datetime.datetime.today()\n",
        "print(\"\\ntoday: \",today)\n"
      ],
      "metadata": {
        "colab": {
          "base_uri": "https://localhost:8080/"
        },
        "id": "umuwQE0JVu9L",
        "outputId": "29c56079-78b9-42a1-8471-be0e72b0bced"
      },
      "execution_count": 2,
      "outputs": [
        {
          "output_type": "stream",
          "name": "stdout",
          "text": [
            "\n",
            "today:  2025-04-10 15:35:37.976113\n"
          ]
        }
      ]
    },
    {
      "cell_type": "code",
      "source": [
        "tomorrow=today+datetime.timedelta(days=3)\n",
        "print(\"\\ntomorrow:\",tomorrow)"
      ],
      "metadata": {
        "colab": {
          "base_uri": "https://localhost:8080/"
        },
        "id": "1GBTxGUsVu_g",
        "outputId": "868d87c9-7b97-417f-a8a6-f2f087f88a4c"
      },
      "execution_count": 3,
      "outputs": [
        {
          "output_type": "stream",
          "name": "stdout",
          "text": [
            "\n",
            "tomorrow: 2025-04-13 15:35:37.976113\n"
          ]
        }
      ]
    },
    {
      "cell_type": "code",
      "source": [
        "yesterday=today-datetime.timedelta(days=2)\n",
        "print(\"\\nyesterday: \",yesterday)\n",
        "\n"
      ],
      "metadata": {
        "colab": {
          "base_uri": "https://localhost:8080/"
        },
        "id": "yIC46_dWVvBz",
        "outputId": "b8384a8f-e1e7-4ee7-e99d-1690b8c22344"
      },
      "execution_count": 4,
      "outputs": [
        {
          "output_type": "stream",
          "name": "stdout",
          "text": [
            "\n",
            "yesterday:  2025-04-08 15:35:37.976113\n"
          ]
        }
      ]
    },
    {
      "cell_type": "code",
      "source": [
        "a=datetime.datetime.now()\n",
        "b=datetime.datetime(2020,6,8,23,10,25,404040)\n",
        "print(\"\\ndate format [2020,6,8,23,10,25,404040): \",b)"
      ],
      "metadata": {
        "colab": {
          "base_uri": "https://localhost:8080/"
        },
        "id": "muU8wJYNVvDt",
        "outputId": "dfd76968-98b0-4fe6-bb2c-96c693098958"
      },
      "execution_count": 5,
      "outputs": [
        {
          "output_type": "stream",
          "name": "stdout",
          "text": [
            "\n",
            "date format [2020,6,8,23,10,25,404040):  2020-06-08 23:10:25.404040\n"
          ]
        }
      ]
    },
    {
      "cell_type": "code",
      "source": [
        "from datetime import date\n",
        "d=date(2024, 12, 31)\n",
        "print(\"\\nReplacing date\",d,d.replace(day=15))\n"
      ],
      "metadata": {
        "colab": {
          "base_uri": "https://localhost:8080/"
        },
        "id": "2GRH21CiVvHO",
        "outputId": "a414bae6-b08c-4b55-ea96-67e179b4172e"
      },
      "execution_count": 6,
      "outputs": [
        {
          "output_type": "stream",
          "name": "stdout",
          "text": [
            "\n",
            "Replacing date 2024-12-31 2024-12-15\n"
          ]
        }
      ]
    },
    {
      "cell_type": "code",
      "source": [
        "t=date(2004,4,17)\n",
        "d=date(2004,4,17).ctime()\n",
        "print(\"\\nDay and Month:\",t,d)\n"
      ],
      "metadata": {
        "colab": {
          "base_uri": "https://localhost:8080/"
        },
        "id": "8TZaITylVvO5",
        "outputId": "8b561e1a-c707-423c-bb2f-379793703c05"
      },
      "execution_count": 7,
      "outputs": [
        {
          "output_type": "stream",
          "name": "stdout",
          "text": [
            "\n",
            "Day and Month: 2004-04-17 Sat Apr 17 00:00:00 2004\n"
          ]
        }
      ]
    },
    {
      "cell_type": "code",
      "source": [
        "today=date.today()\n",
        "print(\"\\nToday:\",today)\n",
        "print(\"Current year:\", today.year)\n",
        "print(\"Current month:\", today.month)\n",
        "print(\"Current day:\",today.day)\n"
      ],
      "metadata": {
        "colab": {
          "base_uri": "https://localhost:8080/"
        },
        "id": "uRBrnaeNVvSS",
        "outputId": "c33758ca-67d6-4f43-b029-7f29b6574d4d"
      },
      "execution_count": 8,
      "outputs": [
        {
          "output_type": "stream",
          "name": "stdout",
          "text": [
            "\n",
            "Today: 2025-04-10\n",
            "Current year: 2025\n",
            "Current month: 4\n",
            "Current day: 10\n"
          ]
        }
      ]
    }
  ]
}