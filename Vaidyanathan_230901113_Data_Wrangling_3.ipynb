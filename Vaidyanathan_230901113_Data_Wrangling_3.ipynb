{
  "nbformat": 4,
  "nbformat_minor": 0,
  "metadata": {
    "colab": {
      "provenance": []
    },
    "kernelspec": {
      "name": "python3",
      "display_name": "Python 3"
    },
    "language_info": {
      "name": "python"
    }
  },
  "cells": [
    {
      "cell_type": "code",
      "execution_count": 2,
      "metadata": {
        "colab": {
          "base_uri": "https://localhost:8080/"
        },
        "id": "SJoIVXikHhAs",
        "outputId": "8c095a38-eb15-457f-a032-ee7f77cfb74f"
      },
      "outputs": [
        {
          "output_type": "stream",
          "name": "stdout",
          "text": [
            "Orginal data: \n",
            "        Brand  Year  sold\n",
            "0    Maruthi  2010     6\n",
            "1    Maruthi  2011     7\n",
            "2    Maruthi  2009     9\n",
            "3    Hyundai  2011     8\n",
            "4    Hyundai  2012     3\n",
            "5     Toyota  2011     5\n",
            "6   Mahendra  2012     2\n",
            "7   Mahendra  2013     8\n",
            "8       Ford  2010     7\n",
            "9     Toyota  2011     2\n",
            "10      Ford  2012     4\n",
            "\n",
            "Group by year 2011: \n",
            "      Brand  Year  sold\n",
            "0  Maruthi  2010     6\n",
            "8     Ford  2010     7\n"
          ]
        }
      ],
      "source": [
        "import pandas as pd\n",
        "car_selling_data={\"Brand\":[\"Maruthi\",\"Maruthi\",\"Maruthi\",\"Hyundai\",\"Hyundai\",\"Toyota\",\"Mahendra\",\"Mahendra\",\"Ford\",\"Toyota\",\"Ford\"],\"Year\":[\"2010\",\"2011\",\"2009\",\"2011\",\"2012\",\"2011\",\"2012\",\"2013\",\"2010\",\"2011\",\"2012\"],\"sold\":[6,7,9,8,3,5,2,8,7,2,4]}\n",
        "df=pd.DataFrame(car_selling_data)\n",
        "print(\"Orginal data: \\n\",df)\n",
        "grouped=df.groupby(\"Year\")\n",
        "print(\"\\nGroup by year 2011: \\n\",grouped.get_group(\"2010\"))"
      ]
    },
    {
      "cell_type": "code",
      "source": [
        "student_data = {\n",
        "    'Name': ['A', 'B', 'C', 'D', 'E', 'F', 'G', 'H', 'I', 'J'],\n",
        "    'Roll no': [9, 17, 23, 26, 36, 23, 29, 17, 36, 9],\n",
        "    'Email': ['ab@gmail.com', 'cd@gmail.com', 'ef@gmail.com', 'gh@gmail.com', 'ij@gmail.com',\n",
        "              'kl@gmail.com', 'mn@gmail.com', 'op@gmail.com', 'qr@gmail.com', 'st@gmail.com']}\n",
        "df = pd.DataFrame(student_data)\n",
        "non_duplicate=df[df.duplicated(subset=['Roll no'])]\n",
        "details = {\"ID\":[90,91,92,93,94,95,96,97,98,99],\n",
        "    'Name': ['A', 'B', 'C', 'D', 'E', 'F', 'G', 'H', 'I', 'J'],\n",
        "    \"Dept\":[\"CSE\",\"EEE\",\"ECE\",\"MECH\",\"CSE\",\"CSD\",\"MCT\",\"RA\",\"EEE\",\"BME\"]}\n",
        "de=pd.DataFrame(details)\n",
        "print(\"Removed duplicate rows:\\n\",non_duplicate)"
      ],
      "metadata": {
        "colab": {
          "base_uri": "https://localhost:8080/"
        },
        "id": "Z49sxwx3IA7D",
        "outputId": "bad29579-5d15-49d8-be26-3eece325df2e"
      },
      "execution_count": 3,
      "outputs": [
        {
          "output_type": "stream",
          "name": "stdout",
          "text": [
            "Removed duplicate rows:\n",
            "   Name  Roll no         Email\n",
            "5    F       23  kl@gmail.com\n",
            "7    H       17  op@gmail.com\n",
            "8    I       36  qr@gmail.com\n",
            "9    J        9  st@gmail.com\n"
          ]
        }
      ]
    },
    {
      "cell_type": "code",
      "source": [
        "print(\"\\nOriginal DataFrame:\\n\",de)\n",
        "fee_status=pd.DataFrame({\"ID\":[90,91,92,93,94,95,96,97,98,99],\"Pending\":[5000,250,\"NIL\",300,\"NIL\",6500,3400,6000,2500,\"NIL\"]})\n",
        "print(\"Original DataFrame:\\n\",fee_status)\n",
        "print(\"\\nMerged DataFrame:\\n\",pd.merge(de,fee_status))\n",
        ""
      ],
      "metadata": {
        "colab": {
          "base_uri": "https://localhost:8080/"
        },
        "id": "jj-V7Uv9JWFE",
        "outputId": "2f32018c-436b-4ec0-c8e8-08beacfb84a7"
      },
      "execution_count": 4,
      "outputs": [
        {
          "output_type": "stream",
          "name": "stdout",
          "text": [
            "\n",
            "Original DataFrame:\n",
            "    ID Name  Dept\n",
            "0  90    A   CSE\n",
            "1  91    B   EEE\n",
            "2  92    C   ECE\n",
            "3  93    D  MECH\n",
            "4  94    E   CSE\n",
            "5  95    F   CSD\n",
            "6  96    G   MCT\n",
            "7  97    H    RA\n",
            "8  98    I   EEE\n",
            "9  99    J   BME\n",
            "Original DataFrame:\n",
            "    ID Pending\n",
            "0  90    5000\n",
            "1  91     250\n",
            "2  92     NIL\n",
            "3  93     300\n",
            "4  94     NIL\n",
            "5  95    6500\n",
            "6  96    3400\n",
            "7  97    6000\n",
            "8  98    2500\n",
            "9  99     NIL\n",
            "\n",
            "Merged DataFrame:\n",
            "    ID Name  Dept Pending\n",
            "0  90    A   CSE    5000\n",
            "1  91    B   EEE     250\n",
            "2  92    C   ECE     NIL\n",
            "3  93    D  MECH     300\n",
            "4  94    E   CSE     NIL\n",
            "5  95    F   CSD    6500\n",
            "6  96    G   MCT    3400\n",
            "7  97    H    RA    6000\n",
            "8  98    I   EEE    2500\n",
            "9  99    J   BME     NIL\n"
          ]
        }
      ]
    },
    {
      "cell_type": "code",
      "source": [],
      "metadata": {
        "id": "MysdIn-WJddz"
      },
      "execution_count": null,
      "outputs": []
    }
  ]
}