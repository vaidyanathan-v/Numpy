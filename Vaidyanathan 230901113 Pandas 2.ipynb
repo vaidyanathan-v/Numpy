{
 "cells": [
  {
   "cell_type": "code",
   "execution_count": 2,
   "id": "09d67978",
   "metadata": {},
   "outputs": [
    {
     "name": "stdout",
     "output_type": "stream",
     "text": [
      "DataFrame.applyfunction:\n",
      "\n",
      "\n",
      " Original DataFrame:\n",
      "    S  R\n",
      "0  3  9\n",
      "1  3  9\n",
      "2  3  9\n",
      "3  3  9\n",
      "\n",
      " Squareroot of DataFrame: \n",
      "           S    R\n",
      "0  1.732051  3.0\n",
      "1  1.732051  3.0\n",
      "2  1.732051  3.0\n",
      "3  1.732051  3.0\n",
      "\n",
      " sum of each column :\n",
      " S    12\n",
      "R    36\n",
      "dtype: int64\n",
      "\n",
      " Sum of each row: \n",
      " 0    12\n",
      "1    12\n",
      "2    12\n",
      "3    12\n",
      "dtype: int64\n"
     ]
    }
   ],
   "source": [
    "import pandas as pd\n",
    "import numpy as np\n",
    "print(\"DataFrame.applyfunction:\\n\")\n",
    "info=pd.DataFrame([[3,9]]*4,columns=['S','R'])\n",
    "print(\"\\n Original DataFrame:\\n\",info)\n",
    "print(\"\\n Squareroot of DataFrame: \\n\",info.apply(np.sqrt))\n",
    "print(\"\\n sum of each column :\\n\",info.apply(np.sum,axis=0))\n",
    "print(\"\\n Sum of each row: \\n\",info.apply(np.sum,axis=1))"
   ]
  },
  {
   "cell_type": "code",
   "execution_count": 3,
   "id": "19c163c2",
   "metadata": {},
   "outputs": [
    {
     "name": "stdout",
     "output_type": "stream",
     "text": [
      "\n",
      " Original DataFrame : \n",
      "    x  y  z\n",
      "0  2  4  6\n",
      "1  1  3  5\n",
      "2  5  8  7\n",
      "\n",
      " Minimum and maximum of each column:\n",
      "\n",
      "     x  y  z\n",
      "min  1  3  5\n",
      "max  5  8  7\n"
     ]
    }
   ],
   "source": [
    "info=pd.DataFrame([[2,4,6],[1,3,5],[5,8,7]],columns=['x','y','z'])\n",
    "print(\"\\n Original DataFrame : \\n\",info)\n",
    "print(\"\\n Minimum and maximum of each column:\\n\")\n",
    "print(info.agg(['min','max']))"
   ]
  },
  {
   "cell_type": "code",
   "execution_count": 5,
   "id": "c660be59",
   "metadata": {},
   "outputs": [
    {
     "name": "stdout",
     "output_type": "stream",
     "text": [
      "\n",
      " DataFrame.Assign function : \n",
      "\n",
      "\n",
      " Original DataFrame : \n",
      "         0   1\n",
      "0  Sanjay  88\n",
      "1  Dinesh  70\n",
      "\n",
      " Adding new column: \n",
      "         0   1  Age\n",
      "0  Sanjay  88   20\n",
      "1  Dinesh  70   18\n",
      "\n",
      " Adding new column:\n",
      "         0   1  Age   sex\n",
      "0  Sanjay  88   20  Male\n",
      "1  Dinesh  70   18  Male\n"
     ]
    }
   ],
   "source": [
    "import pandas as pd\n",
    "print(\"\\n DataFrame.Assign function : \\n\")\n",
    "d2=pd.DataFrame([['Sanjay',88],['Dinesh',70]])\n",
    "col=(['Emp','ID'])\n",
    "print(\"\\n Original DataFrame : \\n\",d2)\n",
    "d2['Age']=[20,18]\n",
    "print(\"\\n Adding new column: \\n\",d2)\n",
    "d=d2.assign(sex=['Male','Male'])\n",
    "print(\"\\n Adding new column:\\n\",d)"
   ]
  },
  {
   "cell_type": "code",
   "execution_count": 4,
   "id": "0d1789b3",
   "metadata": {},
   "outputs": [
    {
     "name": "stdout",
     "output_type": "stream",
     "text": [
      "\n",
      " DataFrame Sort Function: \n",
      "\n",
      "          A         B\n",
      "3  0.873552 -0.726803\n",
      "2  0.276443  0.155248\n",
      "0  0.904474 -0.020349\n",
      "4 -0.550362  1.499461\n",
      "1  0.000564 -0.744001\n",
      "\n",
      " Sort index: \n",
      "           A         B\n",
      "0  0.904474 -0.020349\n",
      "1  0.000564 -0.744001\n",
      "2  0.276443  0.155248\n",
      "3  0.873552 -0.726803\n",
      "4 -0.550362  1.499461\n",
      "\n",
      " Sort values: \n",
      "           A         B\n",
      "4 -0.550362  1.499461\n",
      "1  0.000564 -0.744001\n",
      "2  0.276443  0.155248\n",
      "3  0.873552 -0.726803\n",
      "0  0.904474 -0.020349\n"
     ]
    }
   ],
   "source": [
    "print(\"\\n DataFrame Sort Function: \\n\")\n",
    "info=pd.DataFrame(np.random.randn(5,2),index=[3,2,0,4,1],columns=['A','B'])\n",
    "print(info)\n",
    "info2=info.sort_index()\n",
    "print(\"\\n Sort index: \\n\",info2)\n",
    "info3=info.sort_values(by='A')\n",
    "print(\"\\n Sort values: \\n\",info3)"
   ]
  },
  {
   "cell_type": "code",
   "execution_count": 5,
   "id": "e7defbd7",
   "metadata": {},
   "outputs": [
    {
     "name": "stdout",
     "output_type": "stream",
     "text": [
      "\n",
      " DataFrame Merge Function: \n",
      "\n",
      "   id  Name\n",
      "0   1   Sai\n",
      "1   2  Ravi\n",
      "2   3   Pov\n",
      "3   4  Yash\n",
      "   id    name   Sub\n",
      "0   1  Sanjay  Sub1\n",
      "1   2     Ram  Sub4\n",
      "2   3  Selvin  Sub3\n",
      "3   4    Raju  Sub2\n",
      "   id  Name    name   Sub\n",
      "0   1   Sai  Sanjay  Sub1\n",
      "1   2  Ravi     Ram  Sub4\n",
      "2   3   Pov  Selvin  Sub3\n",
      "3   4  Yash    Raju  Sub2\n"
     ]
    }
   ],
   "source": [
    "print(\"\\n DataFrame Merge Function: \\n\")\n",
    "left=pd.DataFrame({'id':[1,2,3,4],'Name':['Sai','Ravi','Pov','Yash']})\n",
    "right=pd.DataFrame({'id':[1,2,3,4],'name':['Sanjay','Ram','Selvin','Raju'],'Sub':['Sub1','Sub4','Sub3','Sub2']})\n",
    "print(left)\n",
    "print(right)\n",
    "print(pd.merge(left,right,on='id'))"
   ]
  },
  {
   "cell_type": "code",
   "execution_count": null,
   "id": "81f0e8a1",
   "metadata": {},
   "outputs": [],
   "source": []
  }
 ],
 "metadata": {
  "kernelspec": {
   "display_name": "Python 3 (ipykernel)",
   "language": "python",
   "name": "python3"
  },
  "language_info": {
   "codemirror_mode": {
    "name": "ipython",
    "version": 3
   },
   "file_extension": ".py",
   "mimetype": "text/x-python",
   "name": "python",
   "nbconvert_exporter": "python",
   "pygments_lexer": "ipython3",
   "version": "3.11.5"
  }
 },
 "nbformat": 4,
 "nbformat_minor": 5
}
