{
  "cells": [
    {
      "cell_type": "code",
      "execution_count": 1,
      "id": "caf2494f",
      "metadata": {
        "id": "caf2494f",
        "outputId": "f975be4f-55f1-4a1d-9f1e-304878d8d5d9",
        "colab": {
          "base_uri": "https://localhost:8080/"
        }
      },
      "outputs": [
        {
          "output_type": "stream",
          "name": "stdout",
          "text": [
            "[3 4 5 6]\n"
          ]
        }
      ],
      "source": [
        "import numpy as np\n",
        "arr=np.array([1,2,3,4,5,6,7,8,9])\n",
        "slice1=arr[2:6]\n",
        "print(slice1)"
      ]
    },
    {
      "cell_type": "code",
      "execution_count": 2,
      "id": "74c62c58",
      "metadata": {
        "id": "74c62c58",
        "outputId": "5b91a41b-12ad-4e79-f513-ed087796f14d",
        "colab": {
          "base_uri": "https://localhost:8080/"
        }
      },
      "outputs": [
        {
          "output_type": "stream",
          "name": "stdout",
          "text": [
            "[1 3 5 7 9]\n"
          ]
        }
      ],
      "source": [
        "slice2=arr[::2]\n",
        "print(slice2)"
      ]
    },
    {
      "cell_type": "code",
      "execution_count": 3,
      "id": "bd1797e5",
      "metadata": {
        "id": "bd1797e5",
        "outputId": "c2bc7e1f-fdfa-4354-c1ec-bef13c974160",
        "colab": {
          "base_uri": "https://localhost:8080/"
        }
      },
      "outputs": [
        {
          "output_type": "stream",
          "name": "stdout",
          "text": [
            "[9 8 7 6 5 4 3 2 1]\n"
          ]
        }
      ],
      "source": [
        "rev_arr=arr[::-1]\n",
        "print(rev_arr)"
      ]
    },
    {
      "cell_type": "code",
      "execution_count": 4,
      "id": "10a500f4",
      "metadata": {
        "id": "10a500f4",
        "outputId": "15eaa06e-8ea5-4f7b-dc36-206fac7d0c4a",
        "colab": {
          "base_uri": "https://localhost:8080/"
        }
      },
      "outputs": [
        {
          "output_type": "stream",
          "name": "stdout",
          "text": [
            "[[ 1  2  3  4]\n",
            " [ 9 10 11 12]]\n",
            "[[ 5  6  7  8]\n",
            " [ 9 10 11 12]]\n",
            "[[11 12]]\n",
            "[[1 2 3 4]\n",
            " [5 6 7 8]]\n",
            "[[1 2 3 4]]\n"
          ]
        }
      ],
      "source": [
        "a=np.array([[1,2,3,4],[5,6,7,8],[9,10,11,12]])\n",
        "print(a[::2])\n",
        "print(a[1::])\n",
        "print(a[2:,2:])\n",
        "print(a[:2])\n",
        "print(a[:2:3])"
      ]
    },
    {
      "cell_type": "code",
      "execution_count": 5,
      "id": "b674e997",
      "metadata": {
        "id": "b674e997",
        "outputId": "4176694c-ff85-45ab-b4e7-0c08daf867eb",
        "colab": {
          "base_uri": "https://localhost:8080/"
        }
      },
      "outputs": [
        {
          "output_type": "stream",
          "name": "stdout",
          "text": [
            "[[2 3]\n",
            " [5 6]]\n"
          ]
        }
      ],
      "source": [
        "import numpy as np\n",
        "arr=np.array([[1,2,3],[4,5,6],[7,8,9]])\n",
        "subarray=arr[0:2,1:3]\n",
        "print(subarray)"
      ]
    },
    {
      "cell_type": "code",
      "execution_count": 6,
      "id": "190e561d",
      "metadata": {
        "id": "190e561d",
        "outputId": "82bfe946-0818-40d5-f6a3-a63c6bf1d3a8",
        "colab": {
          "base_uri": "https://localhost:8080/"
        }
      },
      "outputs": [
        {
          "output_type": "stream",
          "name": "stdout",
          "text": [
            "[[7 8 9]\n",
            " [4 5 6]\n",
            " [1 2 3]]\n"
          ]
        }
      ],
      "source": [
        "reversed_array=arr[::-1]\n",
        "print(reversed_array)"
      ]
    },
    {
      "cell_type": "code",
      "execution_count": 7,
      "id": "e0877641",
      "metadata": {
        "id": "e0877641",
        "outputId": "51ab040e-34c4-46ff-e8d9-96fedb67eba1",
        "colab": {
          "base_uri": "https://localhost:8080/"
        }
      },
      "outputs": [
        {
          "output_type": "stream",
          "name": "stdout",
          "text": [
            "[1 4 7]\n"
          ]
        }
      ],
      "source": [
        "col1=arr[:,0]\n",
        "print(col1)"
      ]
    },
    {
      "cell_type": "code",
      "execution_count": null,
      "id": "b848f1a8",
      "metadata": {
        "id": "b848f1a8",
        "outputId": "cab5bb3a-efcf-475a-d0f0-2fc38e69db71"
      },
      "outputs": [
        {
          "name": "stdout",
          "output_type": "stream",
          "text": [
            "[1 2 3]\n"
          ]
        }
      ],
      "source": [
        "row1=arr[0,:]\n",
        "print(row1)"
      ]
    },
    {
      "cell_type": "code",
      "execution_count": null,
      "id": "3ce9abec",
      "metadata": {
        "id": "3ce9abec",
        "outputId": "acbb6cf4-95f9-448a-cad6-8d04f2ae1d6b"
      },
      "outputs": [
        {
          "name": "stdout",
          "output_type": "stream",
          "text": [
            "10\n",
            "50\n",
            "50\n",
            "[20 30 40]\n",
            "[30 40 50]\n",
            "[20 40]\n"
          ]
        }
      ],
      "source": [
        "import numpy as np\n",
        "arr=np.array([10,20,30,40,50])\n",
        "print(arr[0])\n",
        "print(arr[4])\n",
        "print(arr[-1])\n",
        "print(arr[1:4])\n",
        "print(arr[arr>25])\n",
        "print(arr[[1,3]])"
      ]
    },
    {
      "cell_type": "code",
      "execution_count": null,
      "id": "371bc0c1",
      "metadata": {
        "id": "371bc0c1",
        "outputId": "0a5517b1-6dfb-4e4a-a4c0-e5d73d261ffc"
      },
      "outputs": [
        {
          "name": "stdout",
          "output_type": "stream",
          "text": [
            "1\n",
            "6\n"
          ]
        }
      ],
      "source": [
        "arr=np.array([[1,2,3],[4,5,6],[7,8,9]])\n",
        "print(arr[0,0])\n",
        "print(arr[1,2])"
      ]
    },
    {
      "cell_type": "code",
      "execution_count": null,
      "id": "18ae4ada",
      "metadata": {
        "id": "18ae4ada",
        "outputId": "65750765-0001-43b9-8b51-4bea46f99b9f"
      },
      "outputs": [
        {
          "ename": "SyntaxError",
          "evalue": "invalid syntax. Maybe you meant '==' or ':=' instead of '='? (2215830054.py, line 3)",
          "output_type": "error",
          "traceback": [
            "\u001b[0;36m  Cell \u001b[0;32mIn[8], line 3\u001b[0;36m\u001b[0m\n\u001b[0;31m    result=np.hstack((arr1=arr2))\u001b[0m\n\u001b[0m                      ^\u001b[0m\n\u001b[0;31mSyntaxError\u001b[0m\u001b[0;31m:\u001b[0m invalid syntax. Maybe you meant '==' or ':=' instead of '='?\n"
          ]
        }
      ],
      "source": [
        "arr1=np.array([[1,2],[3,4]])\n",
        "arr2=np.array([[5,6],[7,8]])\n",
        "result=np.hstack((arr1=arr2))\n",
        "print(result)"
      ]
    },
    {
      "cell_type": "code",
      "execution_count": null,
      "id": "58674423",
      "metadata": {
        "id": "58674423",
        "outputId": "64e1e97d-21cf-48ad-c4a9-3471c2288f2a"
      },
      "outputs": [
        {
          "name": "stdout",
          "output_type": "stream",
          "text": [
            "[[1 2 5 6]\n",
            " [3 4 7 8]]\n",
            "[[1 2 5 6]\n",
            " [3 4 7 8]]\n",
            "[[[1 5]\n",
            "  [2 6]]\n",
            "\n",
            " [[3 7]\n",
            "  [4 8]]]\n"
          ]
        }
      ],
      "source": [
        "arr1=np.array([[1,2],[3,4]])\n",
        "arr2=np.array([[5,6],[7,8]])\n",
        "res=np.hstack((arr1,arr2))\n",
        "print(res)\n",
        "res1=np.hstack((arr1,arr2))\n",
        "print(res1)\n",
        "res2=np.dstack((arr1,arr2))\n",
        "print(res2)"
      ]
    },
    {
      "cell_type": "code",
      "execution_count": null,
      "id": "a097bf13",
      "metadata": {
        "id": "a097bf13",
        "outputId": "0d4ec0e5-00f8-4696-9ddd-7868877889e6"
      },
      "outputs": [
        {
          "name": "stdout",
          "output_type": "stream",
          "text": [
            "[array([1, 2]), array([3, 4]), array([5, 6])]\n"
          ]
        },
        {
          "ename": "AttributeError",
          "evalue": "'builtin_function_or_method' object has no attribute 'split'",
          "output_type": "error",
          "traceback": [
            "\u001b[0;31m---------------------------------------------------------------------------\u001b[0m",
            "\u001b[0;31mAttributeError\u001b[0m                            Traceback (most recent call last)",
            "Cell \u001b[0;32mIn[1], line 6\u001b[0m\n\u001b[1;32m      4\u001b[0m \u001b[38;5;28mprint\u001b[39m(res)\n\u001b[1;32m      5\u001b[0m arr1\u001b[38;5;241m=\u001b[39mnp\u001b[38;5;241m.\u001b[39marray([\u001b[38;5;241m1\u001b[39m,\u001b[38;5;241m2\u001b[39m,\u001b[38;5;241m3\u001b[39m,\u001b[38;5;241m4\u001b[39m,\u001b[38;5;241m5\u001b[39m])\n\u001b[0;32m----> 6\u001b[0m res1\u001b[38;5;241m=\u001b[39mnp\u001b[38;5;241m.\u001b[39marray\u001b[38;5;241m.\u001b[39msplit(arr,\u001b[38;5;241m3\u001b[39m)\n\u001b[1;32m      7\u001b[0m \u001b[38;5;28mprint\u001b[39m(res1)\n\u001b[1;32m      8\u001b[0m arr2\u001b[38;5;241m=\u001b[39mnp\u001b[38;5;241m.\u001b[39marray([[\u001b[38;5;241m1\u001b[39m,\u001b[38;5;241m2\u001b[39m,\u001b[38;5;241m3\u001b[39m],[\u001b[38;5;241m4\u001b[39m,\u001b[38;5;241m5\u001b[39m,\u001b[38;5;241m6\u001b[39m]])\n",
            "\u001b[0;31mAttributeError\u001b[0m: 'builtin_function_or_method' object has no attribute 'split'"
          ]
        }
      ],
      "source": [
        "import numpy as np\n",
        "arr=np.array([1,2,3,4,5,6])\n",
        "res=np.split(arr,3)\n",
        "print(res)\n",
        "arr1=np.array([1,2,3,4,5])\n",
        "res1=np.array.split(arr,3)\n",
        "print(res1)\n",
        "arr2=np.array([[1,2,3],[4,5,6]])\n",
        "res2=np.hsplit(arr,3)\n",
        "print(res2)\n",
        "arr3=np.array([[1,2,3],[4,5,6],[7,8,9]])\n",
        "res3=np.vsplit(arr3,3)\n",
        "print(res3)\n",
        "res4=np.dsplit(arr)\n",
        "print(res4)\n"
      ]
    },
    {
      "cell_type": "code",
      "execution_count": null,
      "id": "b2f9d16a",
      "metadata": {
        "id": "b2f9d16a"
      },
      "outputs": [],
      "source": []
    }
  ],
  "metadata": {
    "kernelspec": {
      "display_name": "Python 3 (ipykernel)",
      "language": "python",
      "name": "python3"
    },
    "language_info": {
      "codemirror_mode": {
        "name": "ipython",
        "version": 3
      },
      "file_extension": ".py",
      "mimetype": "text/x-python",
      "name": "python",
      "nbconvert_exporter": "python",
      "pygments_lexer": "ipython3",
      "version": "3.11.5"
    },
    "colab": {
      "provenance": []
    }
  },
  "nbformat": 4,
  "nbformat_minor": 5
}