{
 "cells": [
  {
   "cell_type": "code",
   "execution_count": 12,
   "id": "5f6f3eb8",
   "metadata": {},
   "outputs": [
    {
     "name": "stdout",
     "output_type": "stream",
     "text": [
      "Empty DataFrame\n",
      "Columns: []\n",
      "Index: []\n"
     ]
    }
   ],
   "source": [
    "import pandas as pd\n",
    "df=pd.DataFrame()\n",
    "print(df)"
   ]
  },
  {
   "cell_type": "code",
   "execution_count": 13,
   "id": "170ed9c8",
   "metadata": {},
   "outputs": [
    {
     "name": "stdout",
     "output_type": "stream",
     "text": [
      "\n",
      "Series to DataFrame\n",
      "\n",
      "         Emp  ID\n",
      "0     Dharun  80\n",
      "1     Sudeep  90\n",
      "2       Siva  28\n",
      "3       Yash  57\n",
      "4  Keerthana  49\n"
     ]
    }
   ],
   "source": [
    "import pandas as pd\n",
    "emp=pd.Series(['Dharun','Sudeep','Siva','Yash','Keerthana'])\n",
    "id=pd.Series([80,90,28,57,49])\n",
    "frame={'Emp':emp,'ID':id}\n",
    "res=pd.DataFrame(frame)\n",
    "print(\"\\nSeries to DataFrame\\n\")\n",
    "print(res)"
   ]
  },
  {
   "cell_type": "code",
   "execution_count": 14,
   "id": "6560700c",
   "metadata": {},
   "outputs": [
    {
     "name": "stdout",
     "output_type": "stream",
     "text": [
      "\n",
      " Extracting one column\n",
      "\n",
      "0       Dharun\n",
      "1       Sudeep\n",
      "2         Siva\n",
      "3         Yash\n",
      "4    Keerthana\n",
      "Name: Emp, dtype: object\n"
     ]
    }
   ],
   "source": [
    "print(\"\\n Extracting one column\\n\")\n",
    "print(res['Emp'])"
   ]
  },
  {
   "cell_type": "code",
   "execution_count": 15,
   "id": "9adf02b9",
   "metadata": {},
   "outputs": [
    {
     "name": "stdout",
     "output_type": "stream",
     "text": [
      "\n",
      "Adding one column:\n",
      "\n",
      "         Emp  ID  Age\n",
      "0     Dharun  80   19\n",
      "1     Sudeep  90   90\n",
      "2       Siva  28   34\n",
      "3       Yash  56   67\n",
      "4  Keerthana  89   20\n"
     ]
    }
   ],
   "source": [
    "print('\\nAdding one column:\\n')\n",
    "res['ID']=pd.Series([80,90,28,56,89])\n",
    "res['Age']=pd.Series([19,90,34,67,20])\n",
    "print(res)"
   ]
  },
  {
   "cell_type": "code",
   "execution_count": 16,
   "id": "e269eaea",
   "metadata": {},
   "outputs": [
    {
     "name": "stdout",
     "output_type": "stream",
     "text": [
      "\n",
      " Deleting new column \n",
      "\n",
      "         Emp  ID\n",
      "0     Dharun  80\n",
      "1     Sudeep  90\n",
      "2       Siva  28\n",
      "3       Yash  56\n",
      "4  Keerthana  89\n"
     ]
    }
   ],
   "source": [
    "print(\"\\n Deleting new column \\n\")\n",
    "del res['Age']\n",
    "print(res)"
   ]
  },
  {
   "cell_type": "code",
   "execution_count": 17,
   "id": "c3aba610",
   "metadata": {},
   "outputs": [
    {
     "name": "stdout",
     "output_type": "stream",
     "text": [
      "\n",
      " Extracting the second row: \n",
      "\n",
      "Emp    Sudeep\n",
      "ID         90\n",
      "Name: 1, dtype: object\n"
     ]
    }
   ],
   "source": [
    "print('\\n Extracting the second row: \\n')\n",
    "print(res.loc[1])"
   ]
  },
  {
   "cell_type": "code",
   "execution_count": 18,
   "id": "096aa529",
   "metadata": {},
   "outputs": [
    {
     "name": "stdout",
     "output_type": "stream",
     "text": [
      "Slice rows :\n",
      "       Emp  ID\n",
      "1  Sudeep  90\n",
      "2    Siva  28\n",
      "3    Yash  56\n"
     ]
    }
   ],
   "source": [
    "print(\"Slice rows :\\n\",res[1:4])"
   ]
  },
  {
   "cell_type": "code",
   "execution_count": 19,
   "id": "2010e6f4",
   "metadata": {},
   "outputs": [
    {
     "name": "stdout",
     "output_type": "stream",
     "text": [
      "|n Adding new row values : \n",
      "          Emp   ID     EMP\n",
      "0     Dharun   80     NaN\n",
      "1     Sudeep   90     NaN\n",
      "2       Siva   28     NaN\n",
      "3       Yash   56     NaN\n",
      "4  Keerthana   89     NaN\n",
      "0        NaN  100   Vicky\n",
      "1        NaN  111  Rashid\n"
     ]
    }
   ],
   "source": [
    "d2=pd.DataFrame([['Vicky',100],['Rashid',111]],columns=['EMP','ID'])\n",
    "print(\"\\n Adding new row values : \\n\",pd.concat([res,d2]))"
   ]
  },
  {
   "cell_type": "code",
   "execution_count": 20,
   "id": "535293b2",
   "metadata": {},
   "outputs": [
    {
     "name": "stdout",
     "output_type": "stream",
     "text": [
      "\n",
      " Deleting particular row:\n",
      "          Emp  ID\n",
      "0     Dharun  80\n",
      "1     Sudeep  90\n",
      "3       Yash  56\n",
      "4  Keerthana  89\n"
     ]
    }
   ],
   "source": [
    "print(\"\\n Deleting particular row:\\n\",res.drop(2))"
   ]
  },
  {
   "cell_type": "code",
   "execution_count": null,
   "id": "54cb1eb6",
   "metadata": {},
   "outputs": [],
   "source": []
  }
 ],
 "metadata": {
  "kernelspec": {
   "display_name": "Python 3 (ipykernel)",
   "language": "python",
   "name": "python3"
  },
  "language_info": {
   "codemirror_mode": {
    "name": "ipython",
    "version": 3
   },
   "file_extension": ".py",
   "mimetype": "text/x-python",
   "name": "python",
   "nbconvert_exporter": "python",
   "pygments_lexer": "ipython3",
   "version": "3.11.5"
  }
 },
 "nbformat": 4,
 "nbformat_minor": 5
}
