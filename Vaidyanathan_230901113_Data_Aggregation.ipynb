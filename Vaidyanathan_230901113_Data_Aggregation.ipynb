{
  "nbformat": 4,
  "nbformat_minor": 0,
  "metadata": {
    "colab": {
      "provenance": []
    },
    "kernelspec": {
      "name": "python3",
      "display_name": "Python 3"
    },
    "language_info": {
      "name": "python"
    }
  },
  "cells": [
    {
      "cell_type": "code",
      "execution_count": 1,
      "metadata": {
        "colab": {
          "base_uri": "https://localhost:8080/"
        },
        "id": "SZHZVrHPgWNQ",
        "outputId": "267bf415-1a6a-480f-89e9-9a2fcdf23e27"
      },
      "outputs": [
        {
          "output_type": "stream",
          "name": "stdout",
          "text": [
            "\n",
            " Original DataFrame: \n",
            "       Name Catagory  value  score\n",
            "0    Alice        A      4     97\n",
            "1      Bob        B      3     97\n",
            "2  Charlie        C      3     88\n",
            "3    Alice        A      2     90\n",
            "4      Bob        B      3     83\n",
            "5  Charlie        C      2     75\n",
            "\n",
            " Grouped by name and aggredation with one column sum:\n",
            "       Name  value\n",
            "0    Alice      6\n",
            "1      Bob      6\n",
            "2  Charlie      5\n"
          ]
        }
      ],
      "source": [
        "import numpy as np\n",
        "import pandas as pd\n",
        "df=pd.DataFrame({\"Name\":[\"Alice\",\"Bob\",\"Charlie\",\"Alice\",\"Bob\",\"Charlie\"],\"Catagory\":[\"A\",\"B\",\"C\",\"A\",\"B\",\"C\"],\"value\":np.random.randint(1,5,size=6),\"score\":np.random.randint(60,100,size=6)})\n",
        "print(\"\\n Original DataFrame: \\n\",df)\n",
        "df1=df.groupby([\"Name\"],as_index=False)[\"value\"].sum()\n",
        "print(\"\\n Grouped by name and aggredation with one column sum:\\n\",df1)"
      ]
    },
    {
      "cell_type": "code",
      "source": [
        "df2=df.groupby(('Name'),as_index=False)[['value','score']].sum()\n",
        "print(\"\\nGroup by name and Aggregation with two column:\\n\",df2)\n"
      ],
      "metadata": {
        "colab": {
          "base_uri": "https://localhost:8080/"
        },
        "id": "ZdJrOqAngeVi",
        "outputId": "2a07933c-84a0-469c-c926-e6df1eb07854"
      },
      "execution_count": 2,
      "outputs": [
        {
          "output_type": "stream",
          "name": "stdout",
          "text": [
            "\n",
            "Group by name and Aggregation with two column:\n",
            "       Name  value  score\n",
            "0    Alice      6    187\n",
            "1      Bob      6    180\n",
            "2  Charlie      5    163\n"
          ]
        }
      ]
    },
    {
      "cell_type": "code",
      "source": [
        "df3=df.groupby(('Name'),as_index=False)['value'].agg('sum')\n",
        "print(\"\\nGroup by name and Aggregation with one column using agg function:\\n\",df3)\n"
      ],
      "metadata": {
        "colab": {
          "base_uri": "https://localhost:8080/"
        },
        "id": "xikt7qIIgeYN",
        "outputId": "05350e95-b302-44eb-8600-0bbbaf3047ae"
      },
      "execution_count": 3,
      "outputs": [
        {
          "output_type": "stream",
          "name": "stdout",
          "text": [
            "\n",
            "Group by name and Aggregation with one column using agg function:\n",
            "       Name  value\n",
            "0    Alice      6\n",
            "1      Bob      6\n",
            "2  Charlie      5\n"
          ]
        }
      ]
    },
    {
      "cell_type": "code",
      "source": [
        "df4 = df.groupby('Name').agg({\n",
        "'value': ['sum', 'mean', 'min', 'max'],\n",
        "'score': ['sum', 'mean']})\n",
        "print(\"\\nGroup by name and multiple Aggregation functions :\\n\", df4)\n"
      ],
      "metadata": {
        "colab": {
          "base_uri": "https://localhost:8080/"
        },
        "id": "vl4jskUHgebp",
        "outputId": "7cde5e35-3dd3-4af0-fa0f-1635dfe198d9"
      },
      "execution_count": 4,
      "outputs": [
        {
          "output_type": "stream",
          "name": "stdout",
          "text": [
            "\n",
            "Group by name and multiple Aggregation functions :\n",
            "         value              score      \n",
            "          sum mean min max   sum  mean\n",
            "Name                                  \n",
            "Alice       6  3.0   2   4   187  93.5\n",
            "Bob         6  3.0   3   3   180  90.0\n",
            "Charlie     5  2.5   2   3   163  81.5\n"
          ]
        }
      ]
    },
    {
      "cell_type": "code",
      "source": [
        "df5=df.groupby((\"Name\"),as_index=False)[\"value\"].count()\n",
        "print(\"\\n Group and count:\\n\",df5)\n"
      ],
      "metadata": {
        "colab": {
          "base_uri": "https://localhost:8080/"
        },
        "id": "SQBEkcySgwrT",
        "outputId": "d4eb4f5f-c135-4aec-ccc7-6ea45b0e9e37"
      },
      "execution_count": 5,
      "outputs": [
        {
          "output_type": "stream",
          "name": "stdout",
          "text": [
            "\n",
            " Group and count:\n",
            "       Name  value\n",
            "0    Alice      2\n",
            "1      Bob      2\n",
            "2  Charlie      2\n"
          ]
        }
      ]
    },
    {
      "cell_type": "code",
      "source": [
        "df6=df.groupby((\"Name\")).count()\n",
        "print(\"\\n Group and count:\\n\",df6)\n"
      ],
      "metadata": {
        "colab": {
          "base_uri": "https://localhost:8080/"
        },
        "id": "ALpo99k_gwt_",
        "outputId": "5291af3d-ad77-4b69-b95a-0c47b6cd84c2"
      },
      "execution_count": 6,
      "outputs": [
        {
          "output_type": "stream",
          "name": "stdout",
          "text": [
            "\n",
            " Group and count:\n",
            "          Catagory  value  score\n",
            "Name                           \n",
            "Alice           2      2      2\n",
            "Bob             2      2      2\n",
            "Charlie         2      2      2\n"
          ]
        }
      ]
    },
    {
      "cell_type": "code",
      "source": [
        "df7=df.groupby((\"Name\"),as_index=False).first()\n",
        "print(\"\\n Group and display from first\\n\",df7)\n"
      ],
      "metadata": {
        "colab": {
          "base_uri": "https://localhost:8080/"
        },
        "id": "_USFDyPngwwT",
        "outputId": "04b8580a-6118-4811-f9a5-1946e080a683"
      },
      "execution_count": 7,
      "outputs": [
        {
          "output_type": "stream",
          "name": "stdout",
          "text": [
            "\n",
            " Group and display from first\n",
            "       Name Catagory  value  score\n",
            "0    Alice        A      4     97\n",
            "1      Bob        B      3     97\n",
            "2  Charlie        C      3     88\n"
          ]
        }
      ]
    },
    {
      "cell_type": "code",
      "source": [
        "df8=df.groupby((\"Name\"),as_index=False).last()\n",
        "print(\"\\n Group and display from last\\n\",df8)\n"
      ],
      "metadata": {
        "colab": {
          "base_uri": "https://localhost:8080/"
        },
        "id": "Knp7wv-WgwzE",
        "outputId": "f5fb59e9-42f7-4e53-a188-51d0e52d65f0"
      },
      "execution_count": 8,
      "outputs": [
        {
          "output_type": "stream",
          "name": "stdout",
          "text": [
            "\n",
            " Group and display from last\n",
            "       Name Catagory  value  score\n",
            "0    Alice        A      2     90\n",
            "1      Bob        B      3     83\n",
            "2  Charlie        C      2     75\n"
          ]
        }
      ]
    },
    {
      "cell_type": "code",
      "source": [
        "df9=df.groupby((\"Name\")).first()\n",
        "print(\"\\n Group and display from first\\n\",df9)\n"
      ],
      "metadata": {
        "colab": {
          "base_uri": "https://localhost:8080/"
        },
        "id": "CzJ27E5Xgw2R",
        "outputId": "fcaf55b8-124c-4199-817b-c6d6b02ca907"
      },
      "execution_count": 9,
      "outputs": [
        {
          "output_type": "stream",
          "name": "stdout",
          "text": [
            "\n",
            " Group and display from first\n",
            "         Catagory  value  score\n",
            "Name                          \n",
            "Alice          A      4     97\n",
            "Bob            B      3     97\n",
            "Charlie        C      3     88\n"
          ]
        }
      ]
    },
    {
      "cell_type": "code",
      "source": [
        "df10=df.groupby((\"Name\")).last()\n",
        "print(\"\\n Group and display from last\\n\",df10)\n"
      ],
      "metadata": {
        "colab": {
          "base_uri": "https://localhost:8080/"
        },
        "id": "oZF0hkkAhM1C",
        "outputId": "fc9ea1bf-f56e-4e75-9e6c-5e35ae852bbd"
      },
      "execution_count": 10,
      "outputs": [
        {
          "output_type": "stream",
          "name": "stdout",
          "text": [
            "\n",
            " Group and display from last\n",
            "         Catagory  value  score\n",
            "Name                          \n",
            "Alice          A      2     90\n",
            "Bob            B      3     83\n",
            "Charlie        C      2     75\n"
          ]
        }
      ]
    }
  ]
}