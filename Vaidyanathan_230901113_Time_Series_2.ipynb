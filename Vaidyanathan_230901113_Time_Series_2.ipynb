{
  "nbformat": 4,
  "nbformat_minor": 0,
  "metadata": {
    "colab": {
      "provenance": []
    },
    "kernelspec": {
      "name": "python3",
      "display_name": "Python 3"
    },
    "language_info": {
      "name": "python"
    }
  },
  "cells": [
    {
      "cell_type": "code",
      "execution_count": 1,
      "metadata": {
        "colab": {
          "base_uri": "https://localhost:8080/"
        },
        "id": "GH7Wl0GEXMrN",
        "outputId": "4657d272-b049-47ba-c014-3957c28d2ea6"
      },
      "outputs": [
        {
          "output_type": "stream",
          "name": "stdout",
          "text": [
            "2025-04-10 15:47:25.298872\n"
          ]
        }
      ],
      "source": [
        "import datetime\n",
        "cd=datetime.datetime.now()\n",
        "print(cd)\n"
      ]
    },
    {
      "cell_type": "code",
      "source": [
        "res=cd.strftime(\"%y\")\n",
        "print(\"\\nTwo-digit year:\", res)\n"
      ],
      "metadata": {
        "colab": {
          "base_uri": "https://localhost:8080/"
        },
        "id": "-WMmsNplYnB3",
        "outputId": "db50500d-5671-4615-f382-6f617dfcce07"
      },
      "execution_count": 2,
      "outputs": [
        {
          "output_type": "stream",
          "name": "stdout",
          "text": [
            "\n",
            "Two-digit year: 25\n"
          ]
        }
      ]
    },
    {
      "cell_type": "code",
      "source": [
        "res1=cd.strftime(\"%Y\")\n",
        "print(\"\\nFour-digit year:\", res1)\n"
      ],
      "metadata": {
        "colab": {
          "base_uri": "https://localhost:8080/"
        },
        "id": "lB9rkB4LYnnI",
        "outputId": "791051ae-d1d1-4d7c-e681-cec1a0e372c6"
      },
      "execution_count": 3,
      "outputs": [
        {
          "output_type": "stream",
          "name": "stdout",
          "text": [
            "\n",
            "Four-digit year: 2025\n"
          ]
        }
      ]
    },
    {
      "cell_type": "code",
      "source": [
        "res=cd.strftime(\"%m\")\n",
        "print(\"\\nTwo-digit month [01, 12]:\",res)\n"
      ],
      "metadata": {
        "colab": {
          "base_uri": "https://localhost:8080/"
        },
        "id": "dGGx5tWkYnpf",
        "outputId": "7f9125c3-f28d-4771-aa23-647446ddbe62"
      },
      "execution_count": 4,
      "outputs": [
        {
          "output_type": "stream",
          "name": "stdout",
          "text": [
            "\n",
            "Two-digit month [01, 12]: 04\n"
          ]
        }
      ]
    },
    {
      "cell_type": "code",
      "source": [
        "res=cd.strftime(\"%b\")\n",
        "print(\"\\nShort version of month\", res)\n"
      ],
      "metadata": {
        "colab": {
          "base_uri": "https://localhost:8080/"
        },
        "id": "RHe_IzQ0YnsE",
        "outputId": "3beb5f64-e3f8-468f-c334-322c84553a8e"
      },
      "execution_count": 5,
      "outputs": [
        {
          "output_type": "stream",
          "name": "stdout",
          "text": [
            "\n",
            "Short version of month Apr\n"
          ]
        }
      ]
    },
    {
      "cell_type": "code",
      "source": [
        "res=cd.strftime(\"%B\")\n",
        "print(\"\\nFull name of month:\",res)\n"
      ],
      "metadata": {
        "colab": {
          "base_uri": "https://localhost:8080/"
        },
        "id": "aw7I0sndYnuU",
        "outputId": "48b933f2-93b6-4dac-e5bf-36008a165f84"
      },
      "execution_count": 6,
      "outputs": [
        {
          "output_type": "stream",
          "name": "stdout",
          "text": [
            "\n",
            "Full name of month: April\n"
          ]
        }
      ]
    },
    {
      "cell_type": "code",
      "source": [
        "res=cd.strftime(\"%j\")\n",
        "print(\"\\nDays of the year:\", res)\n"
      ],
      "metadata": {
        "colab": {
          "base_uri": "https://localhost:8080/"
        },
        "id": "r48mcrceYnw4",
        "outputId": "804992ba-9418-4e07-8f6e-fd5adb0e63df"
      },
      "execution_count": 7,
      "outputs": [
        {
          "output_type": "stream",
          "name": "stdout",
          "text": [
            "\n",
            "Days of the year: 100\n"
          ]
        }
      ]
    },
    {
      "cell_type": "code",
      "source": [
        "res=cd.strftime(\"%D\")\n",
        "print(\"\\nShortcut for %m/%d/%y (e.g., 04/18/12):\", res)\n"
      ],
      "metadata": {
        "colab": {
          "base_uri": "https://localhost:8080/"
        },
        "id": "MlsNKrUWYnzq",
        "outputId": "62c04644-9166-41f3-9e94-ce3ecfed4741"
      },
      "execution_count": 8,
      "outputs": [
        {
          "output_type": "stream",
          "name": "stdout",
          "text": [
            "\n",
            "Shortcut for %m/%d/%y (e.g., 04/18/12): 04/10/25\n"
          ]
        }
      ]
    },
    {
      "cell_type": "code",
      "source": [
        "res=cd.strftime(\"%d\")\n",
        "print(\"\\nTwo-digit day [01, 31]:\", res)\n"
      ],
      "metadata": {
        "colab": {
          "base_uri": "https://localhost:8080/"
        },
        "id": "N0pMjycAYn2l",
        "outputId": "c246f535-f6dc-4f7e-ff56-4775620ac998"
      },
      "execution_count": 9,
      "outputs": [
        {
          "output_type": "stream",
          "name": "stdout",
          "text": [
            "\n",
            "Two-digit day [01, 31]: 10\n"
          ]
        }
      ]
    },
    {
      "cell_type": "code",
      "source": [
        "res=cd.strftime(\"%a\")\n",
        "print(\"\\nShort version of day\", res)\n"
      ],
      "metadata": {
        "colab": {
          "base_uri": "https://localhost:8080/"
        },
        "id": "6X57kowUYn4v",
        "outputId": "4f50f992-abba-4d25-aace-f8d22e91f0b5"
      },
      "execution_count": 10,
      "outputs": [
        {
          "output_type": "stream",
          "name": "stdout",
          "text": [
            "\n",
            "Short version of day Thu\n"
          ]
        }
      ]
    },
    {
      "cell_type": "code",
      "source": [
        "res=cd.strftime(\"A\")\n",
        "print(\"\\nFull name of a day:\", res)\n"
      ],
      "metadata": {
        "colab": {
          "base_uri": "https://localhost:8080/"
        },
        "id": "ProR2ve4Yn7G",
        "outputId": "a57b398e-d6eb-4f5e-b6d3-6f511bec402e"
      },
      "execution_count": 11,
      "outputs": [
        {
          "output_type": "stream",
          "name": "stdout",
          "text": [
            "\n",
            "Full name of a day: A\n"
          ]
        }
      ]
    },
    {
      "cell_type": "code",
      "source": [
        "res=cd.strftime(\"%H\")\n",
        "print(\"\\nHour (24-hour clock) [00, 23]:\",res)\n"
      ],
      "metadata": {
        "colab": {
          "base_uri": "https://localhost:8080/"
        },
        "id": "hKpOdkPpYn9l",
        "outputId": "c64572f3-ebdc-4610-a1b3-0d7054d3a701"
      },
      "execution_count": 12,
      "outputs": [
        {
          "output_type": "stream",
          "name": "stdout",
          "text": [
            "\n",
            "Hour (24-hour clock) [00, 23]: 15\n"
          ]
        }
      ]
    },
    {
      "cell_type": "code",
      "source": [
        "res=cd.strftime(\"%I\")\n",
        "print(\"\\nHour (12-hour clock) [01, 12]\",res)\n"
      ],
      "metadata": {
        "colab": {
          "base_uri": "https://localhost:8080/"
        },
        "id": "H1IkcVe0YoAC",
        "outputId": "ea814372-198f-4d15-a932-b3473a39de71"
      },
      "execution_count": 13,
      "outputs": [
        {
          "output_type": "stream",
          "name": "stdout",
          "text": [
            "\n",
            "Hour (12-hour clock) [01, 12] 03\n"
          ]
        }
      ]
    },
    {
      "cell_type": "code",
      "source": [
        "res=cd.strftime(\"%M\")\n",
        "print(\"\\nTwo-digit minute [00, 59]:\", res)\n"
      ],
      "metadata": {
        "colab": {
          "base_uri": "https://localhost:8080/"
        },
        "id": "IyrhNMeYYoDh",
        "outputId": "a40f2601-8d73-48d0-8441-8bc508dff8a3"
      },
      "execution_count": 14,
      "outputs": [
        {
          "output_type": "stream",
          "name": "stdout",
          "text": [
            "\n",
            "Two-digit minute [00, 59]: 47\n"
          ]
        }
      ]
    },
    {
      "cell_type": "code",
      "source": [
        "res=cd.strftime(\"%S\")\n",
        "print(\"\\nSecond (00, 61] (seconds 60, 61 account for leap seconds):\",res)\n"
      ],
      "metadata": {
        "colab": {
          "base_uri": "https://localhost:8080/"
        },
        "id": "umQI38CHaD4V",
        "outputId": "fc982269-5289-4c54-e7dd-e8a01ea9c908"
      },
      "execution_count": 15,
      "outputs": [
        {
          "output_type": "stream",
          "name": "stdout",
          "text": [
            "\n",
            "Second (00, 61] (seconds 60, 61 account for leap seconds): 25\n"
          ]
        }
      ]
    },
    {
      "cell_type": "code",
      "source": [
        "res=cd.strftime(\"%F\")\n",
        "print(\"\\nShortcut for %Y-%m-%d (eg, 2012-4-18):\",res)\n"
      ],
      "metadata": {
        "colab": {
          "base_uri": "https://localhost:8080/"
        },
        "id": "r9dec7ZRaD6r",
        "outputId": "554b2e76-7a4a-4464-b4a9-323de7cb4f3d"
      },
      "execution_count": 16,
      "outputs": [
        {
          "output_type": "stream",
          "name": "stdout",
          "text": [
            "\n",
            "Shortcut for %Y-%m-%d (eg, 2012-4-18): 2025-04-10\n"
          ]
        }
      ]
    },
    {
      "cell_type": "code",
      "source": [
        "res=cd.strftime(\"%f\")\n",
        "print(\"\\nMicrosecond as an integer, zero-padded (from 000000 to 999999);\", res)\n"
      ],
      "metadata": {
        "colab": {
          "base_uri": "https://localhost:8080/"
        },
        "id": "hRWT8vdSaD9j",
        "outputId": "223dae8d-c8b5-4467-938e-fe7fb734f962"
      },
      "execution_count": 17,
      "outputs": [
        {
          "output_type": "stream",
          "name": "stdout",
          "text": [
            "\n",
            "Microsecond as an integer, zero-padded (from 000000 to 999999); 298872\n"
          ]
        }
      ]
    },
    {
      "cell_type": "code",
      "source": [
        "res=cd.strftime(\"%p\")\n",
        "print(\"\\nLocale equivalent of AM or PM:\", res)\n"
      ],
      "metadata": {
        "colab": {
          "base_uri": "https://localhost:8080/"
        },
        "id": "5bIWpk80aEAK",
        "outputId": "c333b3d4-debe-4f26-e110-76152b301f5e"
      },
      "execution_count": 18,
      "outputs": [
        {
          "output_type": "stream",
          "name": "stdout",
          "text": [
            "\n",
            "Locale equivalent of AM or PM: PM\n"
          ]
        }
      ]
    },
    {
      "cell_type": "code",
      "source": [
        "res=cd.strftime(\"%x\")\n",
        "print(\"\\nLocale-appropriate formatted date (eg, in the United States, May 1, 2012 yields '05/01/2012)\", res)\n"
      ],
      "metadata": {
        "colab": {
          "base_uri": "https://localhost:8080/"
        },
        "id": "U7V5e_kRaU0N",
        "outputId": "bb2511a0-179b-42cc-eb35-ec69d0787326"
      },
      "execution_count": 19,
      "outputs": [
        {
          "output_type": "stream",
          "name": "stdout",
          "text": [
            "\n",
            "Locale-appropriate formatted date (eg, in the United States, May 1, 2012 yields '05/01/2012) 04/10/25\n"
          ]
        }
      ]
    },
    {
      "cell_type": "code",
      "source": [
        "res=cd.strftime(\"%X\")\n",
        "print(\"\\nLocale-appropriate time (e.g., '04:24:12 PM'):\",res)\n"
      ],
      "metadata": {
        "colab": {
          "base_uri": "https://localhost:8080/"
        },
        "id": "B2qN5bxHaU32",
        "outputId": "50393b84-d41d-4675-e537-aab4a5238248"
      },
      "execution_count": 20,
      "outputs": [
        {
          "output_type": "stream",
          "name": "stdout",
          "text": [
            "\n",
            "Locale-appropriate time (e.g., '04:24:12 PM'): 15:47:25\n"
          ]
        }
      ]
    }
  ]
}